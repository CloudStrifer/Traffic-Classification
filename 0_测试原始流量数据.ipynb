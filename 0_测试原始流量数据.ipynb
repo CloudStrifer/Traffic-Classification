{
  "nbformat": 4,
  "nbformat_minor": 0,
  "metadata": {
    "colab": {
      "name": "0_测试原始流量数据.ipynb",
      "provenance": [],
      "collapsed_sections": []
    },
    "kernelspec": {
      "name": "python3",
      "display_name": "Python 3.8.6 64-bit",
      "metadata": {
        "interpreter": {
          "hash": "cbed48eac648e81ccf1c681dd9326aaada9743655527812ef1d08301103ee039"
        }
      }
    },
    "accelerator": "GPU"
  },
  "cells": [
    {
      "cell_type": "code",
      "metadata": {
        "id": "ihZ5UAKtxHYl"
      },
      "source": [
        "import os\n",
        "import cv2\n",
        "import random\n",
        "import numpy as np\n",
        "from PIL import Image\n",
        "import matplotlib.pyplot as plt\n",
        "from datetime import date,datetime"
      ],
      "execution_count": 1,
      "outputs": []
    },
    {
      "cell_type": "markdown",
      "metadata": {
        "id": "WtnFo6CJxTrh"
      },
      "source": [
        "## 加载数据"
      ]
    },
    {
      "cell_type": "code",
      "metadata": {
        "id": "OpvAakcXxS5E"
      },
      "source": [
        "train_images = np.load('./data/npy_data/784_session_all/train-pcap.npy')\n",
        "train_labels = np.load('./data/npy_data/784_session_all/train-labels.npy')\n",
        "test_images = np.load('./data/npy_data/784_session_all/test-pcap.npy')\n",
        "test_labels = np.load('./data/npy_data/784_session_all/test-labels.npy')"
      ],
      "execution_count": 7,
      "outputs": []
    },
    {
      "cell_type": "code",
      "metadata": {
        "id": "5c5F7TxnxxiO",
        "colab": {
          "base_uri": "https://localhost:8080/",
          "height": 35
        },
        "outputId": "2e84540a-59e8-40fc-c634-6c3bbf8b67af"
      },
      "source": [
        "print(train_images.shape, train_labels.shape, test_images.shape, test_labels.shape)"
      ],
      "execution_count": 8,
      "outputs": [
        {
          "output_type": "stream",
          "name": "stdout",
          "text": [
            "(49986, 784) (49986,) (5618, 784) (5618,)\n"
          ]
        }
      ]
    },
    {
      "cell_type": "markdown",
      "metadata": {
        "id": "ZjIIxmJYx4WC"
      },
      "source": [
        "## 训练网络\n",
        "\n",
        "- 创建dataloader\n",
        "- 定义模型\n",
        "- 开始训练"
      ]
    },
    {
      "cell_type": "code",
      "metadata": {
        "id": "qjcwicLcyLJ8",
        "colab": {
          "base_uri": "https://localhost:8080/",
          "height": 35
        },
        "outputId": "76d3b545-bf0d-410d-84ac-b7a4dd0aeeb8"
      },
      "source": [
        "import torch\n",
        "from torch import nn, optim\n",
        "from torch.autograd import Variable\n",
        "from torch.utils.data import DataLoader\n",
        "from torchvision import transforms\n",
        "from torch.utils.checkpoint import checkpoint, checkpoint_sequential\n",
        "\n",
        "device = torch.device(\"cuda\" if torch.cuda.is_available() else \"cpu\")\n",
        "print(device)"
      ],
      "execution_count": 9,
      "outputs": [
        {
          "output_type": "stream",
          "name": "stdout",
          "text": [
            "cuda\n"
          ]
        }
      ]
    },
    {
      "cell_type": "code",
      "execution_count": 12,
      "metadata": {},
      "outputs": [
        {
          "output_type": "execute_result",
          "data": {
            "text/plain": [
              "(49986, 1, 784)"
            ]
          },
          "metadata": {},
          "execution_count": 12
        }
      ],
      "source": [
        "train_images.reshape(-1, 1, 784).shape"
      ]
    },
    {
      "cell_type": "markdown",
      "metadata": {
        "id": "8jCDssE7yGNJ"
      },
      "source": [
        "### 定义dataloader"
      ]
    },
    {
      "cell_type": "code",
      "metadata": {
        "id": "0T8MlZtJxyBJ",
        "colab": {
          "base_uri": "https://localhost:8080/",
          "height": 53
        },
        "outputId": "35aea168-cc59-43fe-d182-239b89e4be5a"
      },
      "source": [
        "# ---------\n",
        "# 转换为tensor\n",
        "# ---------\n",
        "X_train = torch.from_numpy(train_images.reshape(-1, 1, 784)).float() # 输入 x 张量\n",
        "X_test = torch.from_numpy(test_images.reshape(-1, 1, 784)).float()\n",
        "Y_train = torch.from_numpy(train_labels).long() # 输入 y 张量\n",
        "Y_test = torch.from_numpy(test_labels).long()\n",
        "print(X_train.shape, Y_train.shape)\n",
        "print(X_test.shape, Y_test.shape)\n",
        "\n",
        "# ---------------\n",
        "# 创建dataloader\n",
        "# ---------------\n",
        "MINIBATCH_SIZE = 200\n",
        "\n",
        "trainDataset = torch.utils.data.TensorDataset(X_train, Y_train) # 合并训练数据和目标数据\n",
        "trainDataloader = torch.utils.data.DataLoader(\n",
        "    dataset=trainDataset,\n",
        "    batch_size=MINIBATCH_SIZE,\n",
        "    shuffle=True,\n",
        "    num_workers=1           # set multi-work num read data\n",
        ")\n",
        "\n",
        "testDataset = torch.utils.data.TensorDataset(X_test, Y_test) # 数据路径\n",
        "testDataloader = torch.utils.data.DataLoader(\n",
        "    dataset=testDataset,\n",
        "    batch_size=MINIBATCH_SIZE, # 批量大小\n",
        "    shuffle=True, # 乱序\n",
        "    num_workers=1 # 多进程\n",
        ")"
      ],
      "execution_count": 13,
      "outputs": [
        {
          "output_type": "stream",
          "name": "stdout",
          "text": [
            "torch.Size([49986, 1, 784]) torch.Size([49986])\ntorch.Size([5618, 1, 784]) torch.Size([5618])\n"
          ]
        }
      ]
    },
    {
      "cell_type": "markdown",
      "metadata": {
        "id": "DB42HNy01K2i"
      },
      "source": [
        "### 模型的定义"
      ]
    },
    {
      "cell_type": "code",
      "metadata": {
        "id": "bXWQOjaMzAkc"
      },
      "source": [
        "class cnn1d(nn.Module):\n",
        "    def __init__(self):\n",
        "        super(cnn1d, self).__init__()\n",
        "        # 卷积层+池化层\n",
        "        self.conv = nn.Sequential(\n",
        "            # 第一层\n",
        "            nn.Conv1d(kernel_size=25, in_channels=1, out_channels=32, stride=1, padding=12), # (1,784)->(32,784)\n",
        "            nn.BatchNorm1d(32), # 加上BN的结果\n",
        "            nn.ReLU(),\n",
        "            nn.MaxPool1d(kernel_size=3, stride=3, padding=1), # (32,784)->(32,262)\n",
        "            # # 第二层\n",
        "            nn.Conv1d(kernel_size=25, in_channels=32, out_channels=64, stride=1, padding=12), # (32,262)->(64,262)\n",
        "            nn.BatchNorm1d(64),\n",
        "            nn.ReLU(),\n",
        "            nn.MaxPool1d(kernel_size=3, stride=3, padding=1), # (64,262)->(64*88)\n",
        "        )\n",
        "        # 全连接层\n",
        "        self.line = nn.Sequential(\n",
        "            nn.Linear(in_features=88*64, out_features=1024),\n",
        "            nn.Dropout(0.7),\n",
        "            nn.Linear(in_features=1024, out_features=12)\n",
        "        )\n",
        "    def forward(self, x):\n",
        "        x = self.conv(x) # 卷积层\n",
        "        x = x.view(x.size(0), -1) # 展开\n",
        "        x = self.line(x) # 全连接层\n",
        "        return x"
      ],
      "execution_count": 14,
      "outputs": []
    },
    {
      "cell_type": "markdown",
      "metadata": {
        "id": "_vXuOs2m1Y8l"
      },
      "source": [
        "### 开始训练"
      ]
    },
    {
      "cell_type": "code",
      "metadata": {
        "id": "sC_eTpc21Xi7",
        "colab": {
          "base_uri": "https://localhost:8080/",
          "height": 1000
        },
        "outputId": "4ef2839e-1405-4f8c-b565-45307aaa9a80",
        "tags": [
          "outputPrepend"
        ]
      },
      "source": [
        "# 模型初始化\n",
        "Cnn = cnn1d().to(device) # 定义分类器\n",
        "\n",
        "# 定义损失函数和优化器\n",
        "loss_fn = nn.CrossEntropyLoss() # 定义损失函数\n",
        "optimiser = optim.Adam(params=Cnn.parameters(), lr=0.001) # 定义优化器\n",
        "\n",
        "print('开始训练.')\n",
        "num_epochs = 100\n",
        "total_step = len(trainDataloader) # 每一个epoch中的步骤\n",
        "lossList = [] # 每一个epoch的loss\n",
        "AccuryList = [] # 每一个epoch的accury\n",
        "lr_scheduler = torch.optim.lr_scheduler.StepLR(optimiser, step_size=20*300, gamma=0.9) # 学习率每20轮变为原来的90%\n",
        "for epoch in range(num_epochs):\n",
        "    Cnn.train() # 训练模式\n",
        "    totalLoss = 0 # 计算训练集的平均loss(每一个epoch计算一次loss)\n",
        "    for i, (images, labels) in enumerate(trainDataloader):\n",
        "        images = images.to(device)\n",
        "        labels = labels.to(device)\n",
        "        pre = Cnn(images) # 模型的预测结果\n",
        "        loss = loss_fn(pre, labels) # 计算误差\n",
        "        # 反向传播\n",
        "        optimiser.zero_grad()\n",
        "        loss.backward()\n",
        "        optimiser.step()\n",
        "        lr_scheduler.step() # lr的递减\n",
        "        # 计算平均loss\n",
        "        totalLoss = totalLoss + loss.item()\n",
        "        # ---------\n",
        "        # 打印结果\n",
        "        # ---------\n",
        "        if (i+2) % 100 == 0:\n",
        "            t = datetime.now() #获取现在的时间\n",
        "            print('Time {}, Epoch [{}/{}], Step [{}/{}], loss:{:.4f}'.format(t, epoch, num_epochs, i+1, total_step, totalLoss/(i+1)))\n",
        "            # 看一下训练集准确率\n",
        "            _, predicted = torch.max(pre.data, 1)\n",
        "            total = labels.size(0)\n",
        "            correct = (predicted == labels).sum().item()\n",
        "            print('Training Accuracy: {}, Training Rate: {}'.format(100 * correct / total, optimiser.param_groups[0]['lr']))\n",
        "\n",
        "    lossList.append(totalLoss/(i+1))\n",
        "    # --------------------------\n",
        "    # 每一个epoch对测试集进行测试\n",
        "    # --------------------------\n",
        "    Cnn.eval()  # eval mode (batchnorm uses moving mean/variance instead of mini-batch mean/variance)\n",
        "    with torch.no_grad():\n",
        "        correct = 0\n",
        "        total = 0\n",
        "        for images, labels in testDataloader:\n",
        "            images = images.to(device)\n",
        "            labels = labels.to(device)\n",
        "            outputs = Cnn(images) # 模型的预测结果(概率)\n",
        "            _, predicted = torch.max(outputs.data, 1) # 模型的预测结果(对应到是哪一个label)\n",
        "            total += labels.size(0)\n",
        "            correct += (predicted == labels).sum().item()\n",
        "    print('Test Accuracy of the model on the test images: {} %'.format(100 * correct / total))\n",
        "    AccuryList.append(correct / total)\n",
        "    print('-'*10)"
      ],
      "execution_count": 15,
      "outputs": [
        {
          "output_type": "stream",
          "name": "stdout",
          "text": [
            " 90.0498398006408 %\n",
            "----------\n",
            "Time 2021-01-07 11:25:59.614933, Epoch [42/100], Step [99/250], loss:0.1144\n",
            "Training Accuracy: 93.5, Training Rate: 0.0009000000000000001\n",
            "Time 2021-01-07 11:26:01.744863, Epoch [42/100], Step [199/250], loss:0.1177\n",
            "Training Accuracy: 98.0, Training Rate: 0.0009000000000000001\n",
            "Test Accuracy of the model on the test images: 90.38803844784621 %\n",
            "----------\n",
            "Time 2021-01-07 11:26:06.422034, Epoch [43/100], Step [99/250], loss:0.1168\n",
            "Training Accuracy: 97.0, Training Rate: 0.0009000000000000001\n",
            "Time 2021-01-07 11:26:08.480901, Epoch [43/100], Step [199/250], loss:0.1185\n",
            "Training Accuracy: 95.5, Training Rate: 0.0009000000000000001\n",
            "Test Accuracy of the model on the test images: 89.58704165183339 %\n",
            "----------\n",
            "Time 2021-01-07 11:26:13.123639, Epoch [44/100], Step [99/250], loss:0.1021\n",
            "Training Accuracy: 96.0, Training Rate: 0.0009000000000000001\n",
            "Time 2021-01-07 11:26:15.133509, Epoch [44/100], Step [199/250], loss:0.1011\n",
            "Training Accuracy: 95.0, Training Rate: 0.0009000000000000001\n",
            "Test Accuracy of the model on the test images: 89.14204343182627 %\n",
            "----------\n",
            "Time 2021-01-07 11:26:19.834852, Epoch [45/100], Step [99/250], loss:0.1191\n",
            "Training Accuracy: 95.5, Training Rate: 0.0009000000000000001\n",
            "Time 2021-01-07 11:26:21.855744, Epoch [45/100], Step [199/250], loss:0.1162\n",
            "Training Accuracy: 94.0, Training Rate: 0.0009000000000000001\n",
            "Test Accuracy of the model on the test images: 90.01423994304022 %\n",
            "----------\n",
            "Time 2021-01-07 11:26:26.524920, Epoch [46/100], Step [99/250], loss:0.1024\n",
            "Training Accuracy: 94.0, Training Rate: 0.0009000000000000001\n",
            "Time 2021-01-07 11:26:28.550844, Epoch [46/100], Step [199/250], loss:0.1082\n",
            "Training Accuracy: 97.0, Training Rate: 0.0009000000000000001\n",
            "Test Accuracy of the model on the test images: 89.3378426486294 %\n",
            "----------\n",
            "Time 2021-01-07 11:26:33.167515, Epoch [47/100], Step [99/250], loss:0.1048\n",
            "Training Accuracy: 94.5, Training Rate: 0.0009000000000000001\n",
            "Time 2021-01-07 11:26:35.234410, Epoch [47/100], Step [199/250], loss:0.1084\n",
            "Training Accuracy: 92.0, Training Rate: 0.0009000000000000001\n",
            "Test Accuracy of the model on the test images: 90.7440370238519 %\n",
            "----------\n",
            "Time 2021-01-07 11:26:39.977087, Epoch [48/100], Step [99/250], loss:0.0929\n",
            "Training Accuracy: 96.0, Training Rate: 0.0008100000000000001\n",
            "Time 2021-01-07 11:26:42.038581, Epoch [48/100], Step [199/250], loss:0.0965\n",
            "Training Accuracy: 95.0, Training Rate: 0.0008100000000000001\n",
            "Test Accuracy of the model on the test images: 90.8686365254539 %\n",
            "----------\n",
            "Time 2021-01-07 11:26:46.739653, Epoch [49/100], Step [99/250], loss:0.1020\n",
            "Training Accuracy: 91.0, Training Rate: 0.0008100000000000001\n",
            "Time 2021-01-07 11:26:48.758550, Epoch [49/100], Step [199/250], loss:0.1009\n",
            "Training Accuracy: 98.0, Training Rate: 0.0008100000000000001\n",
            "Test Accuracy of the model on the test images: 90.6372374510502 %\n",
            "----------\n",
            "Time 2021-01-07 11:26:53.434128, Epoch [50/100], Step [99/250], loss:0.0826\n",
            "Training Accuracy: 94.0, Training Rate: 0.0008100000000000001\n",
            "Time 2021-01-07 11:26:55.516052, Epoch [50/100], Step [199/250], loss:0.0838\n",
            "Training Accuracy: 94.5, Training Rate: 0.0008100000000000001\n",
            "Test Accuracy of the model on the test images: 89.64044143823425 %\n",
            "----------\n",
            "Time 2021-01-07 11:27:00.189816, Epoch [51/100], Step [99/250], loss:0.0914\n",
            "Training Accuracy: 97.5, Training Rate: 0.0008100000000000001\n",
            "Time 2021-01-07 11:27:02.249681, Epoch [51/100], Step [199/250], loss:0.0935\n",
            "Training Accuracy: 95.5, Training Rate: 0.0008100000000000001\n",
            "Test Accuracy of the model on the test images: 91.812032751869 %\n",
            "----------\n",
            "Time 2021-01-07 11:27:06.867282, Epoch [52/100], Step [99/250], loss:0.0834\n",
            "Training Accuracy: 90.5, Training Rate: 0.0008100000000000001\n",
            "Time 2021-01-07 11:27:08.872177, Epoch [52/100], Step [199/250], loss:0.0834\n",
            "Training Accuracy: 91.5, Training Rate: 0.0008100000000000001\n",
            "Test Accuracy of the model on the test images: 91.34923460306159 %\n",
            "----------\n",
            "Time 2021-01-07 11:27:13.544159, Epoch [53/100], Step [99/250], loss:0.0696\n",
            "Training Accuracy: 98.5, Training Rate: 0.0008100000000000001\n",
            "Time 2021-01-07 11:27:15.589224, Epoch [53/100], Step [199/250], loss:0.0727\n",
            "Training Accuracy: 94.0, Training Rate: 0.0008100000000000001\n",
            "Test Accuracy of the model on the test images: 90.70843716625133 %\n",
            "----------\n",
            "Time 2021-01-07 11:27:20.151051, Epoch [54/100], Step [99/250], loss:0.0943\n",
            "Training Accuracy: 96.5, Training Rate: 0.0008100000000000001\n",
            "Time 2021-01-07 11:27:22.152682, Epoch [54/100], Step [199/250], loss:0.0875\n",
            "Training Accuracy: 98.0, Training Rate: 0.0008100000000000001\n",
            "Test Accuracy of the model on the test images: 91.34923460306159 %\n",
            "----------\n",
            "Time 2021-01-07 11:27:26.731449, Epoch [55/100], Step [99/250], loss:0.0808\n",
            "Training Accuracy: 95.5, Training Rate: 0.0008100000000000001\n",
            "Time 2021-01-07 11:27:28.731347, Epoch [55/100], Step [199/250], loss:0.0918\n",
            "Training Accuracy: 93.5, Training Rate: 0.0008100000000000001\n",
            "Test Accuracy of the model on the test images: 92.59522961908152 %\n",
            "----------\n",
            "Time 2021-01-07 11:27:33.315228, Epoch [56/100], Step [99/250], loss:0.0920\n",
            "Training Accuracy: 98.5, Training Rate: 0.0008100000000000001\n",
            "Time 2021-01-07 11:27:35.328128, Epoch [56/100], Step [199/250], loss:0.0848\n",
            "Training Accuracy: 95.0, Training Rate: 0.0008100000000000001\n",
            "Test Accuracy of the model on the test images: 92.70202919188323 %\n",
            "----------\n",
            "Time 2021-01-07 11:27:39.892205, Epoch [57/100], Step [99/250], loss:0.0779\n",
            "Training Accuracy: 98.5, Training Rate: 0.0008100000000000001\n",
            "Time 2021-01-07 11:27:41.905071, Epoch [57/100], Step [199/250], loss:0.0698\n",
            "Training Accuracy: 96.5, Training Rate: 0.0008100000000000001\n",
            "Test Accuracy of the model on the test images: 92.66642933428267 %\n",
            "----------\n",
            "Time 2021-01-07 11:27:46.463231, Epoch [58/100], Step [99/250], loss:0.0707\n",
            "Training Accuracy: 97.5, Training Rate: 0.0008100000000000001\n",
            "Time 2021-01-07 11:27:48.472130, Epoch [58/100], Step [199/250], loss:0.0738\n",
            "Training Accuracy: 93.0, Training Rate: 0.0008100000000000001\n",
            "Test Accuracy of the model on the test images: 92.55962976148095 %\n",
            "----------\n",
            "Time 2021-01-07 11:27:53.170810, Epoch [59/100], Step [99/250], loss:0.0695\n",
            "Training Accuracy: 98.0, Training Rate: 0.0008100000000000001\n",
            "Time 2021-01-07 11:27:55.284703, Epoch [59/100], Step [199/250], loss:0.0674\n",
            "Training Accuracy: 97.5, Training Rate: 0.0008100000000000001\n",
            "Test Accuracy of the model on the test images: 91.74083303666785 %\n",
            "----------\n",
            "Time 2021-01-07 11:27:59.937230, Epoch [60/100], Step [99/250], loss:0.0543\n",
            "Training Accuracy: 98.0, Training Rate: 0.0008100000000000001\n",
            "Time 2021-01-07 11:28:02.023124, Epoch [60/100], Step [199/250], loss:0.0597\n",
            "Training Accuracy: 94.0, Training Rate: 0.0008100000000000001\n",
            "Test Accuracy of the model on the test images: 93.3250266998932 %\n",
            "----------\n",
            "Time 2021-01-07 11:28:06.754686, Epoch [61/100], Step [99/250], loss:0.0684\n",
            "Training Accuracy: 98.5, Training Rate: 0.0008100000000000001\n",
            "Time 2021-01-07 11:28:08.850580, Epoch [61/100], Step [199/250], loss:0.0652\n",
            "Training Accuracy: 98.5, Training Rate: 0.0008100000000000001\n",
            "Test Accuracy of the model on the test images: 93.98362406550373 %\n",
            "----------\n",
            "Time 2021-01-07 11:28:13.731056, Epoch [62/100], Step [99/250], loss:0.0595\n",
            "Training Accuracy: 99.0, Training Rate: 0.0008100000000000001\n",
            "Time 2021-01-07 11:28:15.840950, Epoch [62/100], Step [199/250], loss:0.0657\n",
            "Training Accuracy: 98.0, Training Rate: 0.0008100000000000001\n",
            "Test Accuracy of the model on the test images: 90.56603773584905 %\n",
            "----------\n",
            "Time 2021-01-07 11:28:20.658460, Epoch [63/100], Step [99/250], loss:0.0753\n",
            "Training Accuracy: 97.0, Training Rate: 0.0008100000000000001\n",
            "Time 2021-01-07 11:28:22.763385, Epoch [63/100], Step [199/250], loss:0.0640\n",
            "Training Accuracy: 98.5, Training Rate: 0.0008100000000000001\n",
            "Test Accuracy of the model on the test images: 93.34282662869349 %\n",
            "----------\n",
            "Time 2021-01-07 11:28:27.520589, Epoch [64/100], Step [99/250], loss:0.0475\n",
            "Training Accuracy: 98.5, Training Rate: 0.0008100000000000001\n",
            "Time 2021-01-07 11:28:29.674506, Epoch [64/100], Step [199/250], loss:0.0643\n",
            "Training Accuracy: 98.0, Training Rate: 0.0008100000000000001\n",
            "Test Accuracy of the model on the test images: 92.93342826628694 %\n",
            "----------\n",
            "Time 2021-01-07 11:28:34.528357, Epoch [65/100], Step [99/250], loss:0.0479\n",
            "Training Accuracy: 97.5, Training Rate: 0.0008100000000000001\n",
            "Time 2021-01-07 11:28:36.661249, Epoch [65/100], Step [199/250], loss:0.0562\n",
            "Training Accuracy: 99.0, Training Rate: 0.0008100000000000001\n",
            "Test Accuracy of the model on the test images: 93.62762548949804 %\n",
            "----------\n",
            "Time 2021-01-07 11:28:41.441642, Epoch [66/100], Step [99/250], loss:0.0416\n",
            "Training Accuracy: 97.5, Training Rate: 0.0008100000000000001\n",
            "Time 2021-01-07 11:28:43.579563, Epoch [66/100], Step [199/250], loss:0.0444\n",
            "Training Accuracy: 99.0, Training Rate: 0.0008100000000000001\n",
            "Test Accuracy of the model on the test images: 94.07262370950517 %\n",
            "----------\n",
            "Time 2021-01-07 11:28:48.440873, Epoch [67/100], Step [99/250], loss:0.0494\n",
            "Training Accuracy: 95.0, Training Rate: 0.0008100000000000001\n",
            "Time 2021-01-07 11:28:50.520741, Epoch [67/100], Step [199/250], loss:0.0521\n",
            "Training Accuracy: 97.0, Training Rate: 0.0008100000000000001\n",
            "Test Accuracy of the model on the test images: 94.33962264150944 %\n",
            "----------\n",
            "Time 2021-01-07 11:28:55.133700, Epoch [68/100], Step [99/250], loss:0.0486\n",
            "Training Accuracy: 96.5, Training Rate: 0.0008100000000000001\n",
            "Time 2021-01-07 11:28:57.139598, Epoch [68/100], Step [199/250], loss:0.0504\n",
            "Training Accuracy: 95.5, Training Rate: 0.0008100000000000001\n",
            "Test Accuracy of the model on the test images: 93.77002491990032 %\n",
            "----------\n",
            "Time 2021-01-07 11:29:01.754224, Epoch [69/100], Step [99/250], loss:0.0491\n",
            "Training Accuracy: 99.0, Training Rate: 0.0008100000000000001\n",
            "Time 2021-01-07 11:29:03.776120, Epoch [69/100], Step [199/250], loss:0.0472\n",
            "Training Accuracy: 98.0, Training Rate: 0.0008100000000000001\n",
            "Test Accuracy of the model on the test images: 91.9188323246707 %\n",
            "----------\n",
            "Time 2021-01-07 11:29:08.427568, Epoch [70/100], Step [99/250], loss:0.0444\n",
            "Training Accuracy: 98.5, Training Rate: 0.0008100000000000001\n",
            "Time 2021-01-07 11:29:10.488465, Epoch [70/100], Step [199/250], loss:0.0461\n",
            "Training Accuracy: 96.5, Training Rate: 0.0008100000000000001\n",
            "Test Accuracy of the model on the test images: 94.42862228551085 %\n",
            "----------\n",
            "Time 2021-01-07 11:29:15.607179, Epoch [71/100], Step [99/250], loss:0.0564\n",
            "Training Accuracy: 98.5, Training Rate: 0.0008100000000000001\n",
            "Time 2021-01-07 11:29:17.781096, Epoch [71/100], Step [199/250], loss:0.0487\n",
            "Training Accuracy: 99.5, Training Rate: 0.0008100000000000001\n",
            "Test Accuracy of the model on the test images: 94.17942328230687 %\n",
            "----------\n",
            "Time 2021-01-07 11:29:22.592855, Epoch [72/100], Step [99/250], loss:0.0416\n",
            "Training Accuracy: 100.0, Training Rate: 0.000729\n",
            "Time 2021-01-07 11:29:24.718744, Epoch [72/100], Step [199/250], loss:0.0427\n",
            "Training Accuracy: 100.0, Training Rate: 0.000729\n",
            "Test Accuracy of the model on the test images: 93.20042719829121 %\n",
            "----------\n",
            "Time 2021-01-07 11:29:29.469077, Epoch [73/100], Step [99/250], loss:0.0398\n",
            "Training Accuracy: 98.0, Training Rate: 0.000729\n",
            "Time 2021-01-07 11:29:31.533957, Epoch [73/100], Step [199/250], loss:0.0346\n",
            "Training Accuracy: 99.0, Training Rate: 0.000729\n",
            "Test Accuracy of the model on the test images: 94.39302242791028 %\n",
            "----------\n",
            "Time 2021-01-07 11:29:36.341050, Epoch [74/100], Step [99/250], loss:0.0385\n",
            "Training Accuracy: 100.0, Training Rate: 0.000729\n",
            "Time 2021-01-07 11:29:38.372945, Epoch [74/100], Step [199/250], loss:0.0318\n",
            "Training Accuracy: 99.0, Training Rate: 0.000729\n",
            "Test Accuracy of the model on the test images: 92.34603061587754 %\n",
            "----------\n",
            "Time 2021-01-07 11:29:42.946576, Epoch [75/100], Step [99/250], loss:0.0438\n",
            "Training Accuracy: 100.0, Training Rate: 0.000729\n",
            "Time 2021-01-07 11:29:44.958474, Epoch [75/100], Step [199/250], loss:0.0378\n",
            "Training Accuracy: 99.0, Training Rate: 0.000729\n",
            "Test Accuracy of the model on the test images: 95.03381986472054 %\n",
            "----------\n",
            "Time 2021-01-07 11:29:49.561728, Epoch [76/100], Step [99/250], loss:0.0541\n",
            "Training Accuracy: 98.5, Training Rate: 0.000729\n",
            "Time 2021-01-07 11:29:51.568626, Epoch [76/100], Step [199/250], loss:0.0586\n",
            "Training Accuracy: 98.0, Training Rate: 0.000729\n",
            "Test Accuracy of the model on the test images: 94.69562121751513 %\n",
            "----------\n",
            "Time 2021-01-07 11:29:56.122396, Epoch [77/100], Step [99/250], loss:0.0357\n",
            "Training Accuracy: 98.5, Training Rate: 0.000729\n",
            "Time 2021-01-07 11:29:58.129294, Epoch [77/100], Step [199/250], loss:0.0309\n",
            "Training Accuracy: 98.5, Training Rate: 0.000729\n",
            "Test Accuracy of the model on the test images: 94.80242079031684 %\n",
            "----------\n",
            "Time 2021-01-07 11:30:02.683062, Epoch [78/100], Step [99/250], loss:0.0222\n",
            "Training Accuracy: 98.5, Training Rate: 0.000729\n",
            "Time 2021-01-07 11:30:04.697000, Epoch [78/100], Step [199/250], loss:0.0232\n",
            "Training Accuracy: 98.0, Training Rate: 0.000729\n",
            "Test Accuracy of the model on the test images: 95.01601993592026 %\n",
            "----------\n",
            "Time 2021-01-07 11:30:09.245016, Epoch [79/100], Step [99/250], loss:0.0559\n",
            "Training Accuracy: 99.0, Training Rate: 0.000729\n",
            "Time 2021-01-07 11:30:11.257883, Epoch [79/100], Step [199/250], loss:0.0511\n",
            "Training Accuracy: 97.5, Training Rate: 0.000729\n",
            "Test Accuracy of the model on the test images: 94.98042007831968 %\n",
            "----------\n",
            "Time 2021-01-07 11:30:15.808703, Epoch [80/100], Step [99/250], loss:0.0242\n",
            "Training Accuracy: 99.0, Training Rate: 0.000729\n",
            "Time 2021-01-07 11:30:17.828606, Epoch [80/100], Step [199/250], loss:0.0276\n",
            "Training Accuracy: 98.0, Training Rate: 0.000729\n",
            "Test Accuracy of the model on the test images: 94.37522249911001 %\n",
            "----------\n",
            "Time 2021-01-07 11:30:22.398140, Epoch [81/100], Step [99/250], loss:0.0766\n",
            "Training Accuracy: 100.0, Training Rate: 0.000729\n",
            "Time 2021-01-07 11:30:24.513040, Epoch [81/100], Step [199/250], loss:0.0508\n",
            "Training Accuracy: 99.0, Training Rate: 0.000729\n",
            "Test Accuracy of the model on the test images: 94.9626201495194 %\n",
            "----------\n",
            "Time 2021-01-07 11:30:29.166890, Epoch [82/100], Step [99/250], loss:0.0251\n",
            "Training Accuracy: 99.5, Training Rate: 0.000729\n",
            "Time 2021-01-07 11:30:31.278813, Epoch [82/100], Step [199/250], loss:0.0242\n",
            "Training Accuracy: 98.0, Training Rate: 0.000729\n",
            "Test Accuracy of the model on the test images: 95.2118191527234 %\n",
            "----------\n",
            "Time 2021-01-07 11:30:35.912250, Epoch [83/100], Step [99/250], loss:0.0191\n",
            "Training Accuracy: 100.0, Training Rate: 0.000729\n",
            "Time 2021-01-07 11:30:37.934082, Epoch [83/100], Step [199/250], loss:0.0186\n",
            "Training Accuracy: 99.5, Training Rate: 0.000729\n",
            "Test Accuracy of the model on the test images: 94.12602349590601 %\n",
            "----------\n",
            "Time 2021-01-07 11:30:42.532787, Epoch [84/100], Step [99/250], loss:0.0369\n",
            "Training Accuracy: 99.5, Training Rate: 0.000729\n",
            "Time 2021-01-07 11:30:44.546688, Epoch [84/100], Step [199/250], loss:0.0378\n",
            "Training Accuracy: 99.5, Training Rate: 0.000729\n",
            "Test Accuracy of the model on the test images: 95.33641865432539 %\n",
            "----------\n",
            "Time 2021-01-07 11:30:49.107292, Epoch [85/100], Step [99/250], loss:0.0278\n",
            "Training Accuracy: 100.0, Training Rate: 0.000729\n",
            "Time 2021-01-07 11:30:51.116267, Epoch [85/100], Step [199/250], loss:0.0271\n",
            "Training Accuracy: 100.0, Training Rate: 0.000729\n",
            "Test Accuracy of the model on the test images: 95.3186187255251 %\n",
            "----------\n",
            "Time 2021-01-07 11:30:55.731613, Epoch [86/100], Step [99/250], loss:0.0463\n",
            "Training Accuracy: 98.0, Training Rate: 0.000729\n",
            "Time 2021-01-07 11:30:57.747546, Epoch [86/100], Step [199/250], loss:0.0639\n",
            "Training Accuracy: 97.5, Training Rate: 0.000729\n",
            "Test Accuracy of the model on the test images: 94.12602349590601 %\n",
            "----------\n",
            "Time 2021-01-07 11:31:02.307458, Epoch [87/100], Step [99/250], loss:0.0303\n",
            "Training Accuracy: 100.0, Training Rate: 0.000729\n",
            "Time 2021-01-07 11:31:04.321362, Epoch [87/100], Step [199/250], loss:0.0253\n",
            "Training Accuracy: 99.0, Training Rate: 0.000729\n",
            "Test Accuracy of the model on the test images: 95.4254182983268 %\n",
            "----------\n",
            "Time 2021-01-07 11:31:08.963172, Epoch [88/100], Step [99/250], loss:0.0153\n",
            "Training Accuracy: 98.0, Training Rate: 0.000729\n",
            "Time 2021-01-07 11:31:10.991993, Epoch [88/100], Step [199/250], loss:0.0279\n",
            "Training Accuracy: 95.0, Training Rate: 0.000729\n",
            "Test Accuracy of the model on the test images: 95.28301886792453 %\n",
            "----------\n",
            "Time 2021-01-07 11:31:15.839473, Epoch [89/100], Step [99/250], loss:0.0238\n",
            "Training Accuracy: 99.0, Training Rate: 0.000729\n",
            "Time 2021-01-07 11:31:17.869365, Epoch [89/100], Step [199/250], loss:0.0324\n",
            "Training Accuracy: 99.0, Training Rate: 0.000729\n",
            "Test Accuracy of the model on the test images: 94.98042007831968 %\n",
            "----------\n",
            "Time 2021-01-07 11:31:22.452986, Epoch [90/100], Step [99/250], loss:0.0178\n",
            "Training Accuracy: 100.0, Training Rate: 0.000729\n",
            "Time 2021-01-07 11:31:24.476107, Epoch [90/100], Step [199/250], loss:0.0214\n",
            "Training Accuracy: 99.0, Training Rate: 0.000729\n",
            "Test Accuracy of the model on the test images: 94.92702029191884 %\n",
            "----------\n",
            "Time 2021-01-07 11:31:29.064935, Epoch [91/100], Step [99/250], loss:0.0215\n",
            "Training Accuracy: 99.5, Training Rate: 0.000729\n",
            "Time 2021-01-07 11:31:31.091839, Epoch [91/100], Step [199/250], loss:0.0638\n",
            "Training Accuracy: 100.0, Training Rate: 0.000729\n",
            "Test Accuracy of the model on the test images: 94.55322178711285 %\n",
            "----------\n",
            "Time 2021-01-07 11:31:35.653058, Epoch [92/100], Step [99/250], loss:0.0160\n",
            "Training Accuracy: 100.0, Training Rate: 0.000729\n",
            "Time 2021-01-07 11:31:37.663519, Epoch [92/100], Step [199/250], loss:0.0195\n",
            "Training Accuracy: 99.0, Training Rate: 0.000729\n",
            "Test Accuracy of the model on the test images: 95.76361694553222 %\n",
            "----------\n",
            "Time 2021-01-07 11:31:42.294734, Epoch [93/100], Step [99/250], loss:0.0155\n",
            "Training Accuracy: 99.0, Training Rate: 0.000729\n",
            "Time 2021-01-07 11:31:44.380638, Epoch [93/100], Step [199/250], loss:0.0161\n",
            "Training Accuracy: 99.0, Training Rate: 0.000729\n",
            "Test Accuracy of the model on the test images: 95.3186187255251 %\n",
            "----------\n",
            "Time 2021-01-07 11:31:49.016417, Epoch [94/100], Step [99/250], loss:0.0185\n",
            "Training Accuracy: 100.0, Training Rate: 0.000729\n",
            "Time 2021-01-07 11:31:51.075319, Epoch [94/100], Step [199/250], loss:0.0222\n",
            "Training Accuracy: 100.0, Training Rate: 0.000729\n",
            "Test Accuracy of the model on the test images: 92.59522961908152 %\n",
            "----------\n",
            "Time 2021-01-07 11:31:55.702713, Epoch [95/100], Step [99/250], loss:0.0296\n",
            "Training Accuracy: 99.5, Training Rate: 0.000729\n",
            "Time 2021-01-07 11:31:57.778587, Epoch [95/100], Step [199/250], loss:0.0251\n",
            "Training Accuracy: 100.0, Training Rate: 0.000729\n",
            "Test Accuracy of the model on the test images: 89.53364186543254 %\n",
            "----------\n",
            "Time 2021-01-07 11:32:02.392396, Epoch [96/100], Step [99/250], loss:0.0475\n",
            "Training Accuracy: 99.5, Training Rate: 0.0006561000000000001\n",
            "Time 2021-01-07 11:32:04.418301, Epoch [96/100], Step [199/250], loss:0.0307\n",
            "Training Accuracy: 99.5, Training Rate: 0.0006561000000000001\n",
            "Test Accuracy of the model on the test images: 93.98362406550373 %\n",
            "----------\n",
            "Time 2021-01-07 11:32:09.025235, Epoch [97/100], Step [99/250], loss:0.0118\n",
            "Training Accuracy: 100.0, Training Rate: 0.0006561000000000001\n",
            "Time 2021-01-07 11:32:11.044887, Epoch [97/100], Step [199/250], loss:0.0115\n",
            "Training Accuracy: 99.0, Training Rate: 0.0006561000000000001\n",
            "Test Accuracy of the model on the test images: 95.67461730153079 %\n",
            "----------\n",
            "Time 2021-01-07 11:32:15.625923, Epoch [98/100], Step [99/250], loss:0.0099\n",
            "Training Accuracy: 100.0, Training Rate: 0.0006561000000000001\n",
            "Time 2021-01-07 11:32:17.643906, Epoch [98/100], Step [199/250], loss:0.0103\n",
            "Training Accuracy: 98.5, Training Rate: 0.0006561000000000001\n",
            "Test Accuracy of the model on the test images: 95.3186187255251 %\n",
            "----------\n",
            "Time 2021-01-07 11:32:22.266586, Epoch [99/100], Step [99/250], loss:0.0165\n",
            "Training Accuracy: 99.0, Training Rate: 0.0006561000000000001\n",
            "Time 2021-01-07 11:32:24.376484, Epoch [99/100], Step [199/250], loss:0.0165\n",
            "Training Accuracy: 98.0, Training Rate: 0.0006561000000000001\n",
            "Test Accuracy of the model on the test images: 93.96582413670345 %\n",
            "----------\n"
          ]
        }
      ]
    },
    {
      "cell_type": "code",
      "metadata": {
        "id": "WDDOO4Sg4IcW",
        "colab": {
          "base_uri": "https://localhost:8080/",
          "height": 35
        },
        "outputId": "f64af161-939a-44d0-8791-25d437c05542"
      },
      "source": [
        "# 打印最好的准确率\n",
        "print(max(AccuryList))"
      ],
      "execution_count": 16,
      "outputs": [
        {
          "output_type": "stream",
          "name": "stdout",
          "text": [
            "0.9576361694553222\n"
          ]
        }
      ]
    },
    {
      "cell_type": "code",
      "metadata": {
        "id": "JGsG93MH2eIu",
        "colab": {
          "base_uri": "https://localhost:8080/",
          "height": 446
        },
        "outputId": "be60bcf3-2163-480c-fb48-14fd17f3da33"
      },
      "source": [
        "# 绘制loss的变化\n",
        "fig, axes = plt.subplots(nrows=1, ncols=1,figsize=(13,7))\n",
        "axes.plot(lossList, 'k--')"
      ],
      "execution_count": 17,
      "outputs": [
        {
          "output_type": "execute_result",
          "data": {
            "text/plain": [
              "[<matplotlib.lines.Line2D at 0x1b2f58b1ac0>]"
            ]
          },
          "metadata": {},
          "execution_count": 17
        },
        {
          "output_type": "display_data",
          "data": {
            "text/plain": "<Figure size 936x504 with 1 Axes>",
            "image/svg+xml": "<?xml version=\"1.0\" encoding=\"utf-8\" standalone=\"no\"?>\r\n<!DOCTYPE svg PUBLIC \"-//W3C//DTD SVG 1.1//EN\"\r\n  \"http://www.w3.org/Graphics/SVG/1.1/DTD/svg11.dtd\">\r\n<!-- Created with matplotlib (https://matplotlib.org/) -->\r\n<svg height=\"411.598125pt\" version=\"1.1\" viewBox=\"0 0 762.703125 411.598125\" width=\"762.703125pt\" xmlns=\"http://www.w3.org/2000/svg\" xmlns:xlink=\"http://www.w3.org/1999/xlink\">\r\n <metadata>\r\n  <rdf:RDF xmlns:cc=\"http://creativecommons.org/ns#\" xmlns:dc=\"http://purl.org/dc/elements/1.1/\" xmlns:rdf=\"http://www.w3.org/1999/02/22-rdf-syntax-ns#\">\r\n   <cc:Work>\r\n    <dc:type rdf:resource=\"http://purl.org/dc/dcmitype/StillImage\"/>\r\n    <dc:date>2021-01-07T11:32:57.890140</dc:date>\r\n    <dc:format>image/svg+xml</dc:format>\r\n    <dc:creator>\r\n     <cc:Agent>\r\n      <dc:title>Matplotlib v3.3.2, https://matplotlib.org/</dc:title>\r\n     </cc:Agent>\r\n    </dc:creator>\r\n   </cc:Work>\r\n  </rdf:RDF>\r\n </metadata>\r\n <defs>\r\n  <style type=\"text/css\">*{stroke-linecap:butt;stroke-linejoin:round;}</style>\r\n </defs>\r\n <g id=\"figure_1\">\r\n  <g id=\"patch_1\">\r\n   <path d=\"M 0 411.598125 \r\nL 762.703125 411.598125 \r\nL 762.703125 0 \r\nL 0 0 \r\nz\r\n\" style=\"fill:none;\"/>\r\n  </g>\r\n  <g id=\"axes_1\">\r\n   <g id=\"patch_2\">\r\n    <path d=\"M 30.103125 387.72 \r\nL 755.503125 387.72 \r\nL 755.503125 7.2 \r\nL 30.103125 7.2 \r\nz\r\n\" style=\"fill:#ffffff;\"/>\r\n   </g>\r\n   <g id=\"matplotlib.axis_1\">\r\n    <g id=\"xtick_1\">\r\n     <g id=\"line2d_1\">\r\n      <defs>\r\n       <path d=\"M 0 0 \r\nL 0 3.5 \r\n\" id=\"m29ae5b34b4\" style=\"stroke:#000000;stroke-width:0.8;\"/>\r\n      </defs>\r\n      <g>\r\n       <use style=\"stroke:#000000;stroke-width:0.8;\" x=\"63.075852\" xlink:href=\"#m29ae5b34b4\" y=\"387.72\"/>\r\n      </g>\r\n     </g>\r\n     <g id=\"text_1\">\r\n      <!-- 0 -->\r\n      <g transform=\"translate(59.894602 402.318437)scale(0.1 -0.1)\">\r\n       <defs>\r\n        <path d=\"M 31.78125 66.40625 \r\nQ 24.171875 66.40625 20.328125 58.90625 \r\nQ 16.5 51.421875 16.5 36.375 \r\nQ 16.5 21.390625 20.328125 13.890625 \r\nQ 24.171875 6.390625 31.78125 6.390625 \r\nQ 39.453125 6.390625 43.28125 13.890625 \r\nQ 47.125 21.390625 47.125 36.375 \r\nQ 47.125 51.421875 43.28125 58.90625 \r\nQ 39.453125 66.40625 31.78125 66.40625 \r\nz\r\nM 31.78125 74.21875 \r\nQ 44.046875 74.21875 50.515625 64.515625 \r\nQ 56.984375 54.828125 56.984375 36.375 \r\nQ 56.984375 17.96875 50.515625 8.265625 \r\nQ 44.046875 -1.421875 31.78125 -1.421875 \r\nQ 19.53125 -1.421875 13.0625 8.265625 \r\nQ 6.59375 17.96875 6.59375 36.375 \r\nQ 6.59375 54.828125 13.0625 64.515625 \r\nQ 19.53125 74.21875 31.78125 74.21875 \r\nz\r\n\" id=\"DejaVuSans-48\"/>\r\n       </defs>\r\n       <use xlink:href=\"#DejaVuSans-48\"/>\r\n      </g>\r\n     </g>\r\n    </g>\r\n    <g id=\"xtick_2\">\r\n     <g id=\"line2d_2\">\r\n      <g>\r\n       <use style=\"stroke:#000000;stroke-width:0.8;\" x=\"196.298993\" xlink:href=\"#m29ae5b34b4\" y=\"387.72\"/>\r\n      </g>\r\n     </g>\r\n     <g id=\"text_2\">\r\n      <!-- 20 -->\r\n      <g transform=\"translate(189.936493 402.318437)scale(0.1 -0.1)\">\r\n       <defs>\r\n        <path d=\"M 19.1875 8.296875 \r\nL 53.609375 8.296875 \r\nL 53.609375 0 \r\nL 7.328125 0 \r\nL 7.328125 8.296875 \r\nQ 12.9375 14.109375 22.625 23.890625 \r\nQ 32.328125 33.6875 34.8125 36.53125 \r\nQ 39.546875 41.84375 41.421875 45.53125 \r\nQ 43.3125 49.21875 43.3125 52.78125 \r\nQ 43.3125 58.59375 39.234375 62.25 \r\nQ 35.15625 65.921875 28.609375 65.921875 \r\nQ 23.96875 65.921875 18.8125 64.3125 \r\nQ 13.671875 62.703125 7.8125 59.421875 \r\nL 7.8125 69.390625 \r\nQ 13.765625 71.78125 18.9375 73 \r\nQ 24.125 74.21875 28.421875 74.21875 \r\nQ 39.75 74.21875 46.484375 68.546875 \r\nQ 53.21875 62.890625 53.21875 53.421875 \r\nQ 53.21875 48.921875 51.53125 44.890625 \r\nQ 49.859375 40.875 45.40625 35.40625 \r\nQ 44.1875 33.984375 37.640625 27.21875 \r\nQ 31.109375 20.453125 19.1875 8.296875 \r\nz\r\n\" id=\"DejaVuSans-50\"/>\r\n       </defs>\r\n       <use xlink:href=\"#DejaVuSans-50\"/>\r\n       <use x=\"63.623047\" xlink:href=\"#DejaVuSans-48\"/>\r\n      </g>\r\n     </g>\r\n    </g>\r\n    <g id=\"xtick_3\">\r\n     <g id=\"line2d_3\">\r\n      <g>\r\n       <use style=\"stroke:#000000;stroke-width:0.8;\" x=\"329.522133\" xlink:href=\"#m29ae5b34b4\" y=\"387.72\"/>\r\n      </g>\r\n     </g>\r\n     <g id=\"text_3\">\r\n      <!-- 40 -->\r\n      <g transform=\"translate(323.159633 402.318437)scale(0.1 -0.1)\">\r\n       <defs>\r\n        <path d=\"M 37.796875 64.3125 \r\nL 12.890625 25.390625 \r\nL 37.796875 25.390625 \r\nz\r\nM 35.203125 72.90625 \r\nL 47.609375 72.90625 \r\nL 47.609375 25.390625 \r\nL 58.015625 25.390625 \r\nL 58.015625 17.1875 \r\nL 47.609375 17.1875 \r\nL 47.609375 0 \r\nL 37.796875 0 \r\nL 37.796875 17.1875 \r\nL 4.890625 17.1875 \r\nL 4.890625 26.703125 \r\nz\r\n\" id=\"DejaVuSans-52\"/>\r\n       </defs>\r\n       <use xlink:href=\"#DejaVuSans-52\"/>\r\n       <use x=\"63.623047\" xlink:href=\"#DejaVuSans-48\"/>\r\n      </g>\r\n     </g>\r\n    </g>\r\n    <g id=\"xtick_4\">\r\n     <g id=\"line2d_4\">\r\n      <g>\r\n       <use style=\"stroke:#000000;stroke-width:0.8;\" x=\"462.745274\" xlink:href=\"#m29ae5b34b4\" y=\"387.72\"/>\r\n      </g>\r\n     </g>\r\n     <g id=\"text_4\">\r\n      <!-- 60 -->\r\n      <g transform=\"translate(456.382774 402.318437)scale(0.1 -0.1)\">\r\n       <defs>\r\n        <path d=\"M 33.015625 40.375 \r\nQ 26.375 40.375 22.484375 35.828125 \r\nQ 18.609375 31.296875 18.609375 23.390625 \r\nQ 18.609375 15.53125 22.484375 10.953125 \r\nQ 26.375 6.390625 33.015625 6.390625 \r\nQ 39.65625 6.390625 43.53125 10.953125 \r\nQ 47.40625 15.53125 47.40625 23.390625 \r\nQ 47.40625 31.296875 43.53125 35.828125 \r\nQ 39.65625 40.375 33.015625 40.375 \r\nz\r\nM 52.59375 71.296875 \r\nL 52.59375 62.3125 \r\nQ 48.875 64.0625 45.09375 64.984375 \r\nQ 41.3125 65.921875 37.59375 65.921875 \r\nQ 27.828125 65.921875 22.671875 59.328125 \r\nQ 17.53125 52.734375 16.796875 39.40625 \r\nQ 19.671875 43.65625 24.015625 45.921875 \r\nQ 28.375 48.1875 33.59375 48.1875 \r\nQ 44.578125 48.1875 50.953125 41.515625 \r\nQ 57.328125 34.859375 57.328125 23.390625 \r\nQ 57.328125 12.15625 50.6875 5.359375 \r\nQ 44.046875 -1.421875 33.015625 -1.421875 \r\nQ 20.359375 -1.421875 13.671875 8.265625 \r\nQ 6.984375 17.96875 6.984375 36.375 \r\nQ 6.984375 53.65625 15.1875 63.9375 \r\nQ 23.390625 74.21875 37.203125 74.21875 \r\nQ 40.921875 74.21875 44.703125 73.484375 \r\nQ 48.484375 72.75 52.59375 71.296875 \r\nz\r\n\" id=\"DejaVuSans-54\"/>\r\n       </defs>\r\n       <use xlink:href=\"#DejaVuSans-54\"/>\r\n       <use x=\"63.623047\" xlink:href=\"#DejaVuSans-48\"/>\r\n      </g>\r\n     </g>\r\n    </g>\r\n    <g id=\"xtick_5\">\r\n     <g id=\"line2d_5\">\r\n      <g>\r\n       <use style=\"stroke:#000000;stroke-width:0.8;\" x=\"595.968414\" xlink:href=\"#m29ae5b34b4\" y=\"387.72\"/>\r\n      </g>\r\n     </g>\r\n     <g id=\"text_5\">\r\n      <!-- 80 -->\r\n      <g transform=\"translate(589.605914 402.318437)scale(0.1 -0.1)\">\r\n       <defs>\r\n        <path d=\"M 31.78125 34.625 \r\nQ 24.75 34.625 20.71875 30.859375 \r\nQ 16.703125 27.09375 16.703125 20.515625 \r\nQ 16.703125 13.921875 20.71875 10.15625 \r\nQ 24.75 6.390625 31.78125 6.390625 \r\nQ 38.8125 6.390625 42.859375 10.171875 \r\nQ 46.921875 13.96875 46.921875 20.515625 \r\nQ 46.921875 27.09375 42.890625 30.859375 \r\nQ 38.875 34.625 31.78125 34.625 \r\nz\r\nM 21.921875 38.8125 \r\nQ 15.578125 40.375 12.03125 44.71875 \r\nQ 8.5 49.078125 8.5 55.328125 \r\nQ 8.5 64.0625 14.71875 69.140625 \r\nQ 20.953125 74.21875 31.78125 74.21875 \r\nQ 42.671875 74.21875 48.875 69.140625 \r\nQ 55.078125 64.0625 55.078125 55.328125 \r\nQ 55.078125 49.078125 51.53125 44.71875 \r\nQ 48 40.375 41.703125 38.8125 \r\nQ 48.828125 37.15625 52.796875 32.3125 \r\nQ 56.78125 27.484375 56.78125 20.515625 \r\nQ 56.78125 9.90625 50.3125 4.234375 \r\nQ 43.84375 -1.421875 31.78125 -1.421875 \r\nQ 19.734375 -1.421875 13.25 4.234375 \r\nQ 6.78125 9.90625 6.78125 20.515625 \r\nQ 6.78125 27.484375 10.78125 32.3125 \r\nQ 14.796875 37.15625 21.921875 38.8125 \r\nz\r\nM 18.3125 54.390625 \r\nQ 18.3125 48.734375 21.84375 45.5625 \r\nQ 25.390625 42.390625 31.78125 42.390625 \r\nQ 38.140625 42.390625 41.71875 45.5625 \r\nQ 45.3125 48.734375 45.3125 54.390625 \r\nQ 45.3125 60.0625 41.71875 63.234375 \r\nQ 38.140625 66.40625 31.78125 66.40625 \r\nQ 25.390625 66.40625 21.84375 63.234375 \r\nQ 18.3125 60.0625 18.3125 54.390625 \r\nz\r\n\" id=\"DejaVuSans-56\"/>\r\n       </defs>\r\n       <use xlink:href=\"#DejaVuSans-56\"/>\r\n       <use x=\"63.623047\" xlink:href=\"#DejaVuSans-48\"/>\r\n      </g>\r\n     </g>\r\n    </g>\r\n    <g id=\"xtick_6\">\r\n     <g id=\"line2d_6\">\r\n      <g>\r\n       <use style=\"stroke:#000000;stroke-width:0.8;\" x=\"729.191555\" xlink:href=\"#m29ae5b34b4\" y=\"387.72\"/>\r\n      </g>\r\n     </g>\r\n     <g id=\"text_6\">\r\n      <!-- 100 -->\r\n      <g transform=\"translate(719.647805 402.318437)scale(0.1 -0.1)\">\r\n       <defs>\r\n        <path d=\"M 12.40625 8.296875 \r\nL 28.515625 8.296875 \r\nL 28.515625 63.921875 \r\nL 10.984375 60.40625 \r\nL 10.984375 69.390625 \r\nL 28.421875 72.90625 \r\nL 38.28125 72.90625 \r\nL 38.28125 8.296875 \r\nL 54.390625 8.296875 \r\nL 54.390625 0 \r\nL 12.40625 0 \r\nz\r\n\" id=\"DejaVuSans-49\"/>\r\n       </defs>\r\n       <use xlink:href=\"#DejaVuSans-49\"/>\r\n       <use x=\"63.623047\" xlink:href=\"#DejaVuSans-48\"/>\r\n       <use x=\"127.246094\" xlink:href=\"#DejaVuSans-48\"/>\r\n      </g>\r\n     </g>\r\n    </g>\r\n   </g>\r\n   <g id=\"matplotlib.axis_2\">\r\n    <g id=\"ytick_1\">\r\n     <g id=\"line2d_7\">\r\n      <defs>\r\n       <path d=\"M 0 0 \r\nL -3.5 0 \r\n\" id=\"mce049fbe3f\" style=\"stroke:#000000;stroke-width:0.8;\"/>\r\n      </defs>\r\n      <g>\r\n       <use style=\"stroke:#000000;stroke-width:0.8;\" x=\"30.103125\" xlink:href=\"#mce049fbe3f\" y=\"374.119346\"/>\r\n      </g>\r\n     </g>\r\n     <g id=\"text_7\">\r\n      <!-- 0.0 -->\r\n      <g transform=\"translate(7.2 377.918565)scale(0.1 -0.1)\">\r\n       <defs>\r\n        <path d=\"M 10.6875 12.40625 \r\nL 21 12.40625 \r\nL 21 0 \r\nL 10.6875 0 \r\nz\r\n\" id=\"DejaVuSans-46\"/>\r\n       </defs>\r\n       <use xlink:href=\"#DejaVuSans-48\"/>\r\n       <use x=\"63.623047\" xlink:href=\"#DejaVuSans-46\"/>\r\n       <use x=\"95.410156\" xlink:href=\"#DejaVuSans-48\"/>\r\n      </g>\r\n     </g>\r\n    </g>\r\n    <g id=\"ytick_2\">\r\n     <g id=\"line2d_8\">\r\n      <g>\r\n       <use style=\"stroke:#000000;stroke-width:0.8;\" x=\"30.103125\" xlink:href=\"#mce049fbe3f\" y=\"312.141748\"/>\r\n      </g>\r\n     </g>\r\n     <g id=\"text_8\">\r\n      <!-- 0.2 -->\r\n      <g transform=\"translate(7.2 315.940967)scale(0.1 -0.1)\">\r\n       <use xlink:href=\"#DejaVuSans-48\"/>\r\n       <use x=\"63.623047\" xlink:href=\"#DejaVuSans-46\"/>\r\n       <use x=\"95.410156\" xlink:href=\"#DejaVuSans-50\"/>\r\n      </g>\r\n     </g>\r\n    </g>\r\n    <g id=\"ytick_3\">\r\n     <g id=\"line2d_9\">\r\n      <g>\r\n       <use style=\"stroke:#000000;stroke-width:0.8;\" x=\"30.103125\" xlink:href=\"#mce049fbe3f\" y=\"250.164149\"/>\r\n      </g>\r\n     </g>\r\n     <g id=\"text_9\">\r\n      <!-- 0.4 -->\r\n      <g transform=\"translate(7.2 253.963368)scale(0.1 -0.1)\">\r\n       <use xlink:href=\"#DejaVuSans-48\"/>\r\n       <use x=\"63.623047\" xlink:href=\"#DejaVuSans-46\"/>\r\n       <use x=\"95.410156\" xlink:href=\"#DejaVuSans-52\"/>\r\n      </g>\r\n     </g>\r\n    </g>\r\n    <g id=\"ytick_4\">\r\n     <g id=\"line2d_10\">\r\n      <g>\r\n       <use style=\"stroke:#000000;stroke-width:0.8;\" x=\"30.103125\" xlink:href=\"#mce049fbe3f\" y=\"188.186551\"/>\r\n      </g>\r\n     </g>\r\n     <g id=\"text_10\">\r\n      <!-- 0.6 -->\r\n      <g transform=\"translate(7.2 191.98577)scale(0.1 -0.1)\">\r\n       <use xlink:href=\"#DejaVuSans-48\"/>\r\n       <use x=\"63.623047\" xlink:href=\"#DejaVuSans-46\"/>\r\n       <use x=\"95.410156\" xlink:href=\"#DejaVuSans-54\"/>\r\n      </g>\r\n     </g>\r\n    </g>\r\n    <g id=\"ytick_5\">\r\n     <g id=\"line2d_11\">\r\n      <g>\r\n       <use style=\"stroke:#000000;stroke-width:0.8;\" x=\"30.103125\" xlink:href=\"#mce049fbe3f\" y=\"126.208953\"/>\r\n      </g>\r\n     </g>\r\n     <g id=\"text_11\">\r\n      <!-- 0.8 -->\r\n      <g transform=\"translate(7.2 130.008171)scale(0.1 -0.1)\">\r\n       <use xlink:href=\"#DejaVuSans-48\"/>\r\n       <use x=\"63.623047\" xlink:href=\"#DejaVuSans-46\"/>\r\n       <use x=\"95.410156\" xlink:href=\"#DejaVuSans-56\"/>\r\n      </g>\r\n     </g>\r\n    </g>\r\n    <g id=\"ytick_6\">\r\n     <g id=\"line2d_12\">\r\n      <g>\r\n       <use style=\"stroke:#000000;stroke-width:0.8;\" x=\"30.103125\" xlink:href=\"#mce049fbe3f\" y=\"64.231354\"/>\r\n      </g>\r\n     </g>\r\n     <g id=\"text_12\">\r\n      <!-- 1.0 -->\r\n      <g transform=\"translate(7.2 68.030573)scale(0.1 -0.1)\">\r\n       <use xlink:href=\"#DejaVuSans-49\"/>\r\n       <use x=\"63.623047\" xlink:href=\"#DejaVuSans-46\"/>\r\n       <use x=\"95.410156\" xlink:href=\"#DejaVuSans-48\"/>\r\n      </g>\r\n     </g>\r\n    </g>\r\n   </g>\r\n   <g id=\"line2d_13\">\r\n    <path clip-path=\"url(#p145a6f1c56)\" d=\"M 63.075852 24.496364 \r\nL 69.737009 222.923331 \r\nL 76.398166 253.658038 \r\nL 83.059323 262.558453 \r\nL 89.72048 270.029761 \r\nL 96.381637 276.761358 \r\nL 103.042794 281.498572 \r\nL 109.703951 285.427346 \r\nL 116.365108 290.667247 \r\nL 123.026265 294.210013 \r\nL 129.687423 296.6501 \r\nL 136.34858 297.846772 \r\nL 143.009737 302.108121 \r\nL 149.670894 304.243556 \r\nL 156.332051 306.3123 \r\nL 162.993208 307.146919 \r\nL 169.654365 309.27555 \r\nL 176.315522 308.192436 \r\nL 182.976679 309.595732 \r\nL 189.637836 313.371963 \r\nL 196.298993 314.324205 \r\nL 202.96015 315.164859 \r\nL 209.621307 317.572624 \r\nL 216.282464 317.547297 \r\nL 222.943621 320.844663 \r\nL 229.604778 320.927547 \r\nL 236.265935 323.005959 \r\nL 242.927092 321.506661 \r\nL 249.588249 324.487819 \r\nL 256.249406 326.109083 \r\nL 262.910563 326.378932 \r\nL 269.57172 327.487189 \r\nL 276.232877 328.544285 \r\nL 282.894034 329.690617 \r\nL 289.555191 326.260219 \r\nL 296.216348 331.459321 \r\nL 302.877505 331.826688 \r\nL 309.538662 331.862923 \r\nL 316.199819 334.334835 \r\nL 322.860976 333.279071 \r\nL 329.522133 336.170531 \r\nL 336.18329 335.874299 \r\nL 342.844447 337.391985 \r\nL 349.505604 336.532056 \r\nL 356.166761 339.951565 \r\nL 362.827918 337.528026 \r\nL 369.489075 340.749089 \r\nL 376.150232 339.985047 \r\nL 382.811389 343.763967 \r\nL 389.472546 342.751004 \r\nL 396.133704 347.563705 \r\nL 402.794861 345.18313 \r\nL 409.456018 346.929795 \r\nL 416.117175 350.274996 \r\nL 422.778332 347.393778 \r\nL 429.439489 346.963506 \r\nL 436.100646 348.172458 \r\nL 442.761803 351.063075 \r\nL 449.42296 350.351911 \r\nL 456.084117 351.064129 \r\nL 462.745274 354.25701 \r\nL 469.406431 354.237394 \r\nL 476.067588 352.626662 \r\nL 482.728745 355.63791 \r\nL 489.389902 355.031399 \r\nL 496.051059 356.827705 \r\nL 502.712216 359.291614 \r\nL 509.373373 358.548369 \r\nL 516.03453 357.912498 \r\nL 522.695687 358.967249 \r\nL 529.356844 359.656118 \r\nL 536.018001 358.918045 \r\nL 542.679158 360.926587 \r\nL 549.340315 363.263241 \r\nL 556.001472 361.801296 \r\nL 562.662629 361.94426 \r\nL 569.323786 357.545696 \r\nL 575.984943 365.130606 \r\nL 582.6461 366.596165 \r\nL 589.307257 359.907612 \r\nL 595.968414 362.690977 \r\nL 602.629571 359.929054 \r\nL 609.290728 365.388217 \r\nL 615.951885 367.631963 \r\nL 622.613042 361.653267 \r\nL 629.274199 366.069873 \r\nL 635.935356 354.199739 \r\nL 642.596513 366.833565 \r\nL 649.25767 364.526742 \r\nL 655.918827 363.712314 \r\nL 662.579985 365.667812 \r\nL 669.241142 356.277791 \r\nL 675.902299 368.254113 \r\nL 682.563456 368.860791 \r\nL 689.224613 365.908662 \r\nL 695.88577 366.135698 \r\nL 702.546927 363.980777 \r\nL 709.208084 370.423636 \r\nL 715.869241 367.926864 \r\nL 722.530398 369.227015 \r\n\" style=\"fill:none;stroke:#000000;stroke-dasharray:5.55,2.4;stroke-dashoffset:0;stroke-width:1.5;\"/>\r\n   </g>\r\n   <g id=\"patch_3\">\r\n    <path d=\"M 30.103125 387.72 \r\nL 30.103125 7.2 \r\n\" style=\"fill:none;stroke:#000000;stroke-linecap:square;stroke-linejoin:miter;stroke-width:0.8;\"/>\r\n   </g>\r\n   <g id=\"patch_4\">\r\n    <path d=\"M 755.503125 387.72 \r\nL 755.503125 7.2 \r\n\" style=\"fill:none;stroke:#000000;stroke-linecap:square;stroke-linejoin:miter;stroke-width:0.8;\"/>\r\n   </g>\r\n   <g id=\"patch_5\">\r\n    <path d=\"M 30.103125 387.72 \r\nL 755.503125 387.72 \r\n\" style=\"fill:none;stroke:#000000;stroke-linecap:square;stroke-linejoin:miter;stroke-width:0.8;\"/>\r\n   </g>\r\n   <g id=\"patch_6\">\r\n    <path d=\"M 30.103125 7.2 \r\nL 755.503125 7.2 \r\n\" style=\"fill:none;stroke:#000000;stroke-linecap:square;stroke-linejoin:miter;stroke-width:0.8;\"/>\r\n   </g>\r\n  </g>\r\n </g>\r\n <defs>\r\n  <clipPath id=\"p145a6f1c56\">\r\n   <rect height=\"380.52\" width=\"725.4\" x=\"30.103125\" y=\"7.2\"/>\r\n  </clipPath>\r\n </defs>\r\n</svg>\r\n",
            "image/png": "[encoded data removed]"
          },
          "metadata": {
            "needs_background": "light"
          }
        }
      ]
    },
    {
      "cell_type": "code",
      "metadata": {
        "id": "VK-Ls3n92qWH",
        "colab": {
          "base_uri": "https://localhost:8080/",
          "height": 446
        },
        "outputId": "8fceff7a-2ac1-4fc7-b03e-b996fad26d5f"
      },
      "source": [
        "# 绘制准确率的变化\n",
        "fig, axes = plt.subplots(nrows=1, ncols=1,figsize=(13,7))\n",
        "axes.plot(AccuryList, 'k--')"
      ],
      "execution_count": 18,
      "outputs": [
        {
          "output_type": "execute_result",
          "data": {
            "text/plain": [
              "[<matplotlib.lines.Line2D at 0x1b28615b730>]"
            ]
          },
          "metadata": {},
          "execution_count": 18
        },
        {
          "output_type": "display_data",
          "data": {
            "text/plain": "<Figure size 936x504 with 1 Axes>",
            "image/svg+xml": "<?xml version=\"1.0\" encoding=\"utf-8\" standalone=\"no\"?>\r\n<!DOCTYPE svg PUBLIC \"-//W3C//DTD SVG 1.1//EN\"\r\n  \"http://www.w3.org/Graphics/SVG/1.1/DTD/svg11.dtd\">\r\n<!-- Created with matplotlib (https://matplotlib.org/) -->\r\n<svg height=\"411.598125pt\" version=\"1.1\" viewBox=\"0 0 775.428125 411.598125\" width=\"775.428125pt\" xmlns=\"http://www.w3.org/2000/svg\" xmlns:xlink=\"http://www.w3.org/1999/xlink\">\r\n <metadata>\r\n  <rdf:RDF xmlns:cc=\"http://creativecommons.org/ns#\" xmlns:dc=\"http://purl.org/dc/elements/1.1/\" xmlns:rdf=\"http://www.w3.org/1999/02/22-rdf-syntax-ns#\">\r\n   <cc:Work>\r\n    <dc:type rdf:resource=\"http://purl.org/dc/dcmitype/StillImage\"/>\r\n    <dc:date>2021-01-07T11:33:02.423301</dc:date>\r\n    <dc:format>image/svg+xml</dc:format>\r\n    <dc:creator>\r\n     <cc:Agent>\r\n      <dc:title>Matplotlib v3.3.2, https://matplotlib.org/</dc:title>\r\n     </cc:Agent>\r\n    </dc:creator>\r\n   </cc:Work>\r\n  </rdf:RDF>\r\n </metadata>\r\n <defs>\r\n  <style type=\"text/css\">*{stroke-linecap:butt;stroke-linejoin:round;}</style>\r\n </defs>\r\n <g id=\"figure_1\">\r\n  <g id=\"patch_1\">\r\n   <path d=\"M 0 411.598125 \r\nL 775.428125 411.598125 \r\nL 775.428125 0 \r\nL 0 0 \r\nz\r\n\" style=\"fill:none;\"/>\r\n  </g>\r\n  <g id=\"axes_1\">\r\n   <g id=\"patch_2\">\r\n    <path d=\"M 42.828125 387.72 \r\nL 768.228125 387.72 \r\nL 768.228125 7.2 \r\nL 42.828125 7.2 \r\nz\r\n\" style=\"fill:#ffffff;\"/>\r\n   </g>\r\n   <g id=\"matplotlib.axis_1\">\r\n    <g id=\"xtick_1\">\r\n     <g id=\"line2d_1\">\r\n      <defs>\r\n       <path d=\"M 0 0 \r\nL 0 3.5 \r\n\" id=\"m91bfe2ae02\" style=\"stroke:#000000;stroke-width:0.8;\"/>\r\n      </defs>\r\n      <g>\r\n       <use style=\"stroke:#000000;stroke-width:0.8;\" x=\"75.800852\" xlink:href=\"#m91bfe2ae02\" y=\"387.72\"/>\r\n      </g>\r\n     </g>\r\n     <g id=\"text_1\">\r\n      <!-- 0 -->\r\n      <g transform=\"translate(72.619602 402.318437)scale(0.1 -0.1)\">\r\n       <defs>\r\n        <path d=\"M 31.78125 66.40625 \r\nQ 24.171875 66.40625 20.328125 58.90625 \r\nQ 16.5 51.421875 16.5 36.375 \r\nQ 16.5 21.390625 20.328125 13.890625 \r\nQ 24.171875 6.390625 31.78125 6.390625 \r\nQ 39.453125 6.390625 43.28125 13.890625 \r\nQ 47.125 21.390625 47.125 36.375 \r\nQ 47.125 51.421875 43.28125 58.90625 \r\nQ 39.453125 66.40625 31.78125 66.40625 \r\nz\r\nM 31.78125 74.21875 \r\nQ 44.046875 74.21875 50.515625 64.515625 \r\nQ 56.984375 54.828125 56.984375 36.375 \r\nQ 56.984375 17.96875 50.515625 8.265625 \r\nQ 44.046875 -1.421875 31.78125 -1.421875 \r\nQ 19.53125 -1.421875 13.0625 8.265625 \r\nQ 6.59375 17.96875 6.59375 36.375 \r\nQ 6.59375 54.828125 13.0625 64.515625 \r\nQ 19.53125 74.21875 31.78125 74.21875 \r\nz\r\n\" id=\"DejaVuSans-48\"/>\r\n       </defs>\r\n       <use xlink:href=\"#DejaVuSans-48\"/>\r\n      </g>\r\n     </g>\r\n    </g>\r\n    <g id=\"xtick_2\">\r\n     <g id=\"line2d_2\">\r\n      <g>\r\n       <use style=\"stroke:#000000;stroke-width:0.8;\" x=\"209.023993\" xlink:href=\"#m91bfe2ae02\" y=\"387.72\"/>\r\n      </g>\r\n     </g>\r\n     <g id=\"text_2\">\r\n      <!-- 20 -->\r\n      <g transform=\"translate(202.661493 402.318437)scale(0.1 -0.1)\">\r\n       <defs>\r\n        <path d=\"M 19.1875 8.296875 \r\nL 53.609375 8.296875 \r\nL 53.609375 0 \r\nL 7.328125 0 \r\nL 7.328125 8.296875 \r\nQ 12.9375 14.109375 22.625 23.890625 \r\nQ 32.328125 33.6875 34.8125 36.53125 \r\nQ 39.546875 41.84375 41.421875 45.53125 \r\nQ 43.3125 49.21875 43.3125 52.78125 \r\nQ 43.3125 58.59375 39.234375 62.25 \r\nQ 35.15625 65.921875 28.609375 65.921875 \r\nQ 23.96875 65.921875 18.8125 64.3125 \r\nQ 13.671875 62.703125 7.8125 59.421875 \r\nL 7.8125 69.390625 \r\nQ 13.765625 71.78125 18.9375 73 \r\nQ 24.125 74.21875 28.421875 74.21875 \r\nQ 39.75 74.21875 46.484375 68.546875 \r\nQ 53.21875 62.890625 53.21875 53.421875 \r\nQ 53.21875 48.921875 51.53125 44.890625 \r\nQ 49.859375 40.875 45.40625 35.40625 \r\nQ 44.1875 33.984375 37.640625 27.21875 \r\nQ 31.109375 20.453125 19.1875 8.296875 \r\nz\r\n\" id=\"DejaVuSans-50\"/>\r\n       </defs>\r\n       <use xlink:href=\"#DejaVuSans-50\"/>\r\n       <use x=\"63.623047\" xlink:href=\"#DejaVuSans-48\"/>\r\n      </g>\r\n     </g>\r\n    </g>\r\n    <g id=\"xtick_3\">\r\n     <g id=\"line2d_3\">\r\n      <g>\r\n       <use style=\"stroke:#000000;stroke-width:0.8;\" x=\"342.247133\" xlink:href=\"#m91bfe2ae02\" y=\"387.72\"/>\r\n      </g>\r\n     </g>\r\n     <g id=\"text_3\">\r\n      <!-- 40 -->\r\n      <g transform=\"translate(335.884633 402.318437)scale(0.1 -0.1)\">\r\n       <defs>\r\n        <path d=\"M 37.796875 64.3125 \r\nL 12.890625 25.390625 \r\nL 37.796875 25.390625 \r\nz\r\nM 35.203125 72.90625 \r\nL 47.609375 72.90625 \r\nL 47.609375 25.390625 \r\nL 58.015625 25.390625 \r\nL 58.015625 17.1875 \r\nL 47.609375 17.1875 \r\nL 47.609375 0 \r\nL 37.796875 0 \r\nL 37.796875 17.1875 \r\nL 4.890625 17.1875 \r\nL 4.890625 26.703125 \r\nz\r\n\" id=\"DejaVuSans-52\"/>\r\n       </defs>\r\n       <use xlink:href=\"#DejaVuSans-52\"/>\r\n       <use x=\"63.623047\" xlink:href=\"#DejaVuSans-48\"/>\r\n      </g>\r\n     </g>\r\n    </g>\r\n    <g id=\"xtick_4\">\r\n     <g id=\"line2d_4\">\r\n      <g>\r\n       <use style=\"stroke:#000000;stroke-width:0.8;\" x=\"475.470274\" xlink:href=\"#m91bfe2ae02\" y=\"387.72\"/>\r\n      </g>\r\n     </g>\r\n     <g id=\"text_4\">\r\n      <!-- 60 -->\r\n      <g transform=\"translate(469.107774 402.318437)scale(0.1 -0.1)\">\r\n       <defs>\r\n        <path d=\"M 33.015625 40.375 \r\nQ 26.375 40.375 22.484375 35.828125 \r\nQ 18.609375 31.296875 18.609375 23.390625 \r\nQ 18.609375 15.53125 22.484375 10.953125 \r\nQ 26.375 6.390625 33.015625 6.390625 \r\nQ 39.65625 6.390625 43.53125 10.953125 \r\nQ 47.40625 15.53125 47.40625 23.390625 \r\nQ 47.40625 31.296875 43.53125 35.828125 \r\nQ 39.65625 40.375 33.015625 40.375 \r\nz\r\nM 52.59375 71.296875 \r\nL 52.59375 62.3125 \r\nQ 48.875 64.0625 45.09375 64.984375 \r\nQ 41.3125 65.921875 37.59375 65.921875 \r\nQ 27.828125 65.921875 22.671875 59.328125 \r\nQ 17.53125 52.734375 16.796875 39.40625 \r\nQ 19.671875 43.65625 24.015625 45.921875 \r\nQ 28.375 48.1875 33.59375 48.1875 \r\nQ 44.578125 48.1875 50.953125 41.515625 \r\nQ 57.328125 34.859375 57.328125 23.390625 \r\nQ 57.328125 12.15625 50.6875 5.359375 \r\nQ 44.046875 -1.421875 33.015625 -1.421875 \r\nQ 20.359375 -1.421875 13.671875 8.265625 \r\nQ 6.984375 17.96875 6.984375 36.375 \r\nQ 6.984375 53.65625 15.1875 63.9375 \r\nQ 23.390625 74.21875 37.203125 74.21875 \r\nQ 40.921875 74.21875 44.703125 73.484375 \r\nQ 48.484375 72.75 52.59375 71.296875 \r\nz\r\n\" id=\"DejaVuSans-54\"/>\r\n       </defs>\r\n       <use xlink:href=\"#DejaVuSans-54\"/>\r\n       <use x=\"63.623047\" xlink:href=\"#DejaVuSans-48\"/>\r\n      </g>\r\n     </g>\r\n    </g>\r\n    <g id=\"xtick_5\">\r\n     <g id=\"line2d_5\">\r\n      <g>\r\n       <use style=\"stroke:#000000;stroke-width:0.8;\" x=\"608.693414\" xlink:href=\"#m91bfe2ae02\" y=\"387.72\"/>\r\n      </g>\r\n     </g>\r\n     <g id=\"text_5\">\r\n      <!-- 80 -->\r\n      <g transform=\"translate(602.330914 402.318437)scale(0.1 -0.1)\">\r\n       <defs>\r\n        <path d=\"M 31.78125 34.625 \r\nQ 24.75 34.625 20.71875 30.859375 \r\nQ 16.703125 27.09375 16.703125 20.515625 \r\nQ 16.703125 13.921875 20.71875 10.15625 \r\nQ 24.75 6.390625 31.78125 6.390625 \r\nQ 38.8125 6.390625 42.859375 10.171875 \r\nQ 46.921875 13.96875 46.921875 20.515625 \r\nQ 46.921875 27.09375 42.890625 30.859375 \r\nQ 38.875 34.625 31.78125 34.625 \r\nz\r\nM 21.921875 38.8125 \r\nQ 15.578125 40.375 12.03125 44.71875 \r\nQ 8.5 49.078125 8.5 55.328125 \r\nQ 8.5 64.0625 14.71875 69.140625 \r\nQ 20.953125 74.21875 31.78125 74.21875 \r\nQ 42.671875 74.21875 48.875 69.140625 \r\nQ 55.078125 64.0625 55.078125 55.328125 \r\nQ 55.078125 49.078125 51.53125 44.71875 \r\nQ 48 40.375 41.703125 38.8125 \r\nQ 48.828125 37.15625 52.796875 32.3125 \r\nQ 56.78125 27.484375 56.78125 20.515625 \r\nQ 56.78125 9.90625 50.3125 4.234375 \r\nQ 43.84375 -1.421875 31.78125 -1.421875 \r\nQ 19.734375 -1.421875 13.25 4.234375 \r\nQ 6.78125 9.90625 6.78125 20.515625 \r\nQ 6.78125 27.484375 10.78125 32.3125 \r\nQ 14.796875 37.15625 21.921875 38.8125 \r\nz\r\nM 18.3125 54.390625 \r\nQ 18.3125 48.734375 21.84375 45.5625 \r\nQ 25.390625 42.390625 31.78125 42.390625 \r\nQ 38.140625 42.390625 41.71875 45.5625 \r\nQ 45.3125 48.734375 45.3125 54.390625 \r\nQ 45.3125 60.0625 41.71875 63.234375 \r\nQ 38.140625 66.40625 31.78125 66.40625 \r\nQ 25.390625 66.40625 21.84375 63.234375 \r\nQ 18.3125 60.0625 18.3125 54.390625 \r\nz\r\n\" id=\"DejaVuSans-56\"/>\r\n       </defs>\r\n       <use xlink:href=\"#DejaVuSans-56\"/>\r\n       <use x=\"63.623047\" xlink:href=\"#DejaVuSans-48\"/>\r\n      </g>\r\n     </g>\r\n    </g>\r\n    <g id=\"xtick_6\">\r\n     <g id=\"line2d_6\">\r\n      <g>\r\n       <use style=\"stroke:#000000;stroke-width:0.8;\" x=\"741.916555\" xlink:href=\"#m91bfe2ae02\" y=\"387.72\"/>\r\n      </g>\r\n     </g>\r\n     <g id=\"text_6\">\r\n      <!-- 100 -->\r\n      <g transform=\"translate(732.372805 402.318437)scale(0.1 -0.1)\">\r\n       <defs>\r\n        <path d=\"M 12.40625 8.296875 \r\nL 28.515625 8.296875 \r\nL 28.515625 63.921875 \r\nL 10.984375 60.40625 \r\nL 10.984375 69.390625 \r\nL 28.421875 72.90625 \r\nL 38.28125 72.90625 \r\nL 38.28125 8.296875 \r\nL 54.390625 8.296875 \r\nL 54.390625 0 \r\nL 12.40625 0 \r\nz\r\n\" id=\"DejaVuSans-49\"/>\r\n       </defs>\r\n       <use xlink:href=\"#DejaVuSans-49\"/>\r\n       <use x=\"63.623047\" xlink:href=\"#DejaVuSans-48\"/>\r\n       <use x=\"127.246094\" xlink:href=\"#DejaVuSans-48\"/>\r\n      </g>\r\n     </g>\r\n    </g>\r\n   </g>\r\n   <g id=\"matplotlib.axis_2\">\r\n    <g id=\"ytick_1\">\r\n     <g id=\"line2d_7\">\r\n      <defs>\r\n       <path d=\"M 0 0 \r\nL -3.5 0 \r\n\" id=\"ma3d7828f66\" style=\"stroke:#000000;stroke-width:0.8;\"/>\r\n      </defs>\r\n      <g>\r\n       <use style=\"stroke:#000000;stroke-width:0.8;\" x=\"42.828125\" xlink:href=\"#ma3d7828f66\" y=\"353.201506\"/>\r\n      </g>\r\n     </g>\r\n     <g id=\"text_7\">\r\n      <!-- 0.800 -->\r\n      <g transform=\"translate(7.2 357.000725)scale(0.1 -0.1)\">\r\n       <defs>\r\n        <path d=\"M 10.6875 12.40625 \r\nL 21 12.40625 \r\nL 21 0 \r\nL 10.6875 0 \r\nz\r\n\" id=\"DejaVuSans-46\"/>\r\n       </defs>\r\n       <use xlink:href=\"#DejaVuSans-48\"/>\r\n       <use x=\"63.623047\" xlink:href=\"#DejaVuSans-46\"/>\r\n       <use x=\"95.410156\" xlink:href=\"#DejaVuSans-56\"/>\r\n       <use x=\"159.033203\" xlink:href=\"#DejaVuSans-48\"/>\r\n       <use x=\"222.65625\" xlink:href=\"#DejaVuSans-48\"/>\r\n      </g>\r\n     </g>\r\n    </g>\r\n    <g id=\"ytick_2\">\r\n     <g id=\"line2d_8\">\r\n      <g>\r\n       <use style=\"stroke:#000000;stroke-width:0.8;\" x=\"42.828125\" xlink:href=\"#ma3d7828f66\" y=\"301.071157\"/>\r\n      </g>\r\n     </g>\r\n     <g id=\"text_8\">\r\n      <!-- 0.825 -->\r\n      <g transform=\"translate(7.2 304.870376)scale(0.1 -0.1)\">\r\n       <defs>\r\n        <path d=\"M 10.796875 72.90625 \r\nL 49.515625 72.90625 \r\nL 49.515625 64.59375 \r\nL 19.828125 64.59375 \r\nL 19.828125 46.734375 \r\nQ 21.96875 47.46875 24.109375 47.828125 \r\nQ 26.265625 48.1875 28.421875 48.1875 \r\nQ 40.625 48.1875 47.75 41.5 \r\nQ 54.890625 34.8125 54.890625 23.390625 \r\nQ 54.890625 11.625 47.5625 5.09375 \r\nQ 40.234375 -1.421875 26.90625 -1.421875 \r\nQ 22.3125 -1.421875 17.546875 -0.640625 \r\nQ 12.796875 0.140625 7.71875 1.703125 \r\nL 7.71875 11.625 \r\nQ 12.109375 9.234375 16.796875 8.0625 \r\nQ 21.484375 6.890625 26.703125 6.890625 \r\nQ 35.15625 6.890625 40.078125 11.328125 \r\nQ 45.015625 15.765625 45.015625 23.390625 \r\nQ 45.015625 31 40.078125 35.4375 \r\nQ 35.15625 39.890625 26.703125 39.890625 \r\nQ 22.75 39.890625 18.8125 39.015625 \r\nQ 14.890625 38.140625 10.796875 36.28125 \r\nz\r\n\" id=\"DejaVuSans-53\"/>\r\n       </defs>\r\n       <use xlink:href=\"#DejaVuSans-48\"/>\r\n       <use x=\"63.623047\" xlink:href=\"#DejaVuSans-46\"/>\r\n       <use x=\"95.410156\" xlink:href=\"#DejaVuSans-56\"/>\r\n       <use x=\"159.033203\" xlink:href=\"#DejaVuSans-50\"/>\r\n       <use x=\"222.65625\" xlink:href=\"#DejaVuSans-53\"/>\r\n      </g>\r\n     </g>\r\n    </g>\r\n    <g id=\"ytick_3\">\r\n     <g id=\"line2d_9\">\r\n      <g>\r\n       <use style=\"stroke:#000000;stroke-width:0.8;\" x=\"42.828125\" xlink:href=\"#ma3d7828f66\" y=\"248.940808\"/>\r\n      </g>\r\n     </g>\r\n     <g id=\"text_9\">\r\n      <!-- 0.850 -->\r\n      <g transform=\"translate(7.2 252.740026)scale(0.1 -0.1)\">\r\n       <use xlink:href=\"#DejaVuSans-48\"/>\r\n       <use x=\"63.623047\" xlink:href=\"#DejaVuSans-46\"/>\r\n       <use x=\"95.410156\" xlink:href=\"#DejaVuSans-56\"/>\r\n       <use x=\"159.033203\" xlink:href=\"#DejaVuSans-53\"/>\r\n       <use x=\"222.65625\" xlink:href=\"#DejaVuSans-48\"/>\r\n      </g>\r\n     </g>\r\n    </g>\r\n    <g id=\"ytick_4\">\r\n     <g id=\"line2d_10\">\r\n      <g>\r\n       <use style=\"stroke:#000000;stroke-width:0.8;\" x=\"42.828125\" xlink:href=\"#ma3d7828f66\" y=\"196.810458\"/>\r\n      </g>\r\n     </g>\r\n     <g id=\"text_10\">\r\n      <!-- 0.875 -->\r\n      <g transform=\"translate(7.2 200.609677)scale(0.1 -0.1)\">\r\n       <defs>\r\n        <path d=\"M 8.203125 72.90625 \r\nL 55.078125 72.90625 \r\nL 55.078125 68.703125 \r\nL 28.609375 0 \r\nL 18.3125 0 \r\nL 43.21875 64.59375 \r\nL 8.203125 64.59375 \r\nz\r\n\" id=\"DejaVuSans-55\"/>\r\n       </defs>\r\n       <use xlink:href=\"#DejaVuSans-48\"/>\r\n       <use x=\"63.623047\" xlink:href=\"#DejaVuSans-46\"/>\r\n       <use x=\"95.410156\" xlink:href=\"#DejaVuSans-56\"/>\r\n       <use x=\"159.033203\" xlink:href=\"#DejaVuSans-55\"/>\r\n       <use x=\"222.65625\" xlink:href=\"#DejaVuSans-53\"/>\r\n      </g>\r\n     </g>\r\n    </g>\r\n    <g id=\"ytick_5\">\r\n     <g id=\"line2d_11\">\r\n      <g>\r\n       <use style=\"stroke:#000000;stroke-width:0.8;\" x=\"42.828125\" xlink:href=\"#ma3d7828f66\" y=\"144.680109\"/>\r\n      </g>\r\n     </g>\r\n     <g id=\"text_11\">\r\n      <!-- 0.900 -->\r\n      <g transform=\"translate(7.2 148.479328)scale(0.1 -0.1)\">\r\n       <defs>\r\n        <path d=\"M 10.984375 1.515625 \r\nL 10.984375 10.5 \r\nQ 14.703125 8.734375 18.5 7.8125 \r\nQ 22.3125 6.890625 25.984375 6.890625 \r\nQ 35.75 6.890625 40.890625 13.453125 \r\nQ 46.046875 20.015625 46.78125 33.40625 \r\nQ 43.953125 29.203125 39.59375 26.953125 \r\nQ 35.25 24.703125 29.984375 24.703125 \r\nQ 19.046875 24.703125 12.671875 31.3125 \r\nQ 6.296875 37.9375 6.296875 49.421875 \r\nQ 6.296875 60.640625 12.9375 67.421875 \r\nQ 19.578125 74.21875 30.609375 74.21875 \r\nQ 43.265625 74.21875 49.921875 64.515625 \r\nQ 56.59375 54.828125 56.59375 36.375 \r\nQ 56.59375 19.140625 48.40625 8.859375 \r\nQ 40.234375 -1.421875 26.421875 -1.421875 \r\nQ 22.703125 -1.421875 18.890625 -0.6875 \r\nQ 15.09375 0.046875 10.984375 1.515625 \r\nz\r\nM 30.609375 32.421875 \r\nQ 37.25 32.421875 41.125 36.953125 \r\nQ 45.015625 41.5 45.015625 49.421875 \r\nQ 45.015625 57.28125 41.125 61.84375 \r\nQ 37.25 66.40625 30.609375 66.40625 \r\nQ 23.96875 66.40625 20.09375 61.84375 \r\nQ 16.21875 57.28125 16.21875 49.421875 \r\nQ 16.21875 41.5 20.09375 36.953125 \r\nQ 23.96875 32.421875 30.609375 32.421875 \r\nz\r\n\" id=\"DejaVuSans-57\"/>\r\n       </defs>\r\n       <use xlink:href=\"#DejaVuSans-48\"/>\r\n       <use x=\"63.623047\" xlink:href=\"#DejaVuSans-46\"/>\r\n       <use x=\"95.410156\" xlink:href=\"#DejaVuSans-57\"/>\r\n       <use x=\"159.033203\" xlink:href=\"#DejaVuSans-48\"/>\r\n       <use x=\"222.65625\" xlink:href=\"#DejaVuSans-48\"/>\r\n      </g>\r\n     </g>\r\n    </g>\r\n    <g id=\"ytick_6\">\r\n     <g id=\"line2d_12\">\r\n      <g>\r\n       <use style=\"stroke:#000000;stroke-width:0.8;\" x=\"42.828125\" xlink:href=\"#ma3d7828f66\" y=\"92.54976\"/>\r\n      </g>\r\n     </g>\r\n     <g id=\"text_12\">\r\n      <!-- 0.925 -->\r\n      <g transform=\"translate(7.2 96.348979)scale(0.1 -0.1)\">\r\n       <use xlink:href=\"#DejaVuSans-48\"/>\r\n       <use x=\"63.623047\" xlink:href=\"#DejaVuSans-46\"/>\r\n       <use x=\"95.410156\" xlink:href=\"#DejaVuSans-57\"/>\r\n       <use x=\"159.033203\" xlink:href=\"#DejaVuSans-50\"/>\r\n       <use x=\"222.65625\" xlink:href=\"#DejaVuSans-53\"/>\r\n      </g>\r\n     </g>\r\n    </g>\r\n    <g id=\"ytick_7\">\r\n     <g id=\"line2d_13\">\r\n      <g>\r\n       <use style=\"stroke:#000000;stroke-width:0.8;\" x=\"42.828125\" xlink:href=\"#ma3d7828f66\" y=\"40.419411\"/>\r\n      </g>\r\n     </g>\r\n     <g id=\"text_13\">\r\n      <!-- 0.950 -->\r\n      <g transform=\"translate(7.2 44.21863)scale(0.1 -0.1)\">\r\n       <use xlink:href=\"#DejaVuSans-48\"/>\r\n       <use x=\"63.623047\" xlink:href=\"#DejaVuSans-46\"/>\r\n       <use x=\"95.410156\" xlink:href=\"#DejaVuSans-57\"/>\r\n       <use x=\"159.033203\" xlink:href=\"#DejaVuSans-53\"/>\r\n       <use x=\"222.65625\" xlink:href=\"#DejaVuSans-48\"/>\r\n      </g>\r\n     </g>\r\n    </g>\r\n   </g>\r\n   <g id=\"line2d_14\">\r\n    <path clip-path=\"url(#pfb3bad85c1)\" d=\"M 75.800852 370.423636 \r\nL 82.462009 250.907991 \r\nL 89.123166 229.380328 \r\nL 95.784323 227.153328 \r\nL 102.44548 210.079664 \r\nL 109.106637 213.420164 \r\nL 115.767794 222.328162 \r\nL 122.428951 241.257659 \r\nL 129.090108 213.420164 \r\nL 135.751265 220.472329 \r\nL 142.412423 232.720827 \r\nL 149.07358 194.119501 \r\nL 155.734737 207.481498 \r\nL 162.395894 204.512165 \r\nL 169.057051 192.634834 \r\nL 175.718208 178.90167 \r\nL 182.379365 189.665501 \r\nL 189.040522 198.5735 \r\nL 195.701679 190.036668 \r\nL 202.362836 171.849504 \r\nL 209.023993 189.294335 \r\nL 215.68515 171.849504 \r\nL 222.346307 179.272837 \r\nL 229.007464 170.364838 \r\nL 235.668621 163.683839 \r\nL 242.329778 173.334171 \r\nL 248.990935 177.78817 \r\nL 255.652092 174.818837 \r\nL 262.313249 171.849504 \r\nL 268.974406 182.613336 \r\nL 275.635563 174.447671 \r\nL 282.29672 159.972173 \r\nL 288.957877 155.518174 \r\nL 295.619034 171.849504 \r\nL 302.280191 180.757503 \r\nL 308.941348 147.352509 \r\nL 315.602505 176.303504 \r\nL 322.263662 145.496676 \r\nL 328.924819 149.950675 \r\nL 335.585976 136.217511 \r\nL 342.247133 131.392345 \r\nL 348.90829 143.640843 \r\nL 355.569447 136.588677 \r\nL 362.230604 153.291174 \r\nL 368.891761 162.570339 \r\nL 375.552918 144.383176 \r\nL 382.214075 158.487507 \r\nL 388.875232 129.165345 \r\nL 395.536389 126.567179 \r\nL 402.197546 131.392345 \r\nL 408.858704 152.177675 \r\nL 415.519861 106.895349 \r\nL 422.181018 116.545681 \r\nL 428.842175 129.907679 \r\nL 435.503332 116.545681 \r\nL 442.164489 90.564019 \r\nL 448.825646 88.337019 \r\nL 455.486803 89.079352 \r\nL 462.14796 91.306352 \r\nL 468.809117 108.380016 \r\nL 475.470274 75.346188 \r\nL 482.131431 61.613024 \r\nL 488.792588 132.877011 \r\nL 495.453745 74.975021 \r\nL 502.114902 83.511853 \r\nL 508.776059 69.036356 \r\nL 515.437216 59.757191 \r\nL 522.098373 54.189692 \r\nL 528.75953 66.067023 \r\nL 535.420687 104.66835 \r\nL 542.081844 52.333859 \r\nL 548.743001 57.530191 \r\nL 555.404158 77.944354 \r\nL 562.065315 53.076192 \r\nL 568.726472 95.760351 \r\nL 575.387629 39.714194 \r\nL 582.048786 46.76636 \r\nL 588.709943 44.53936 \r\nL 595.3711 40.085361 \r\nL 602.032257 40.827694 \r\nL 608.693414 53.447359 \r\nL 615.354571 41.198861 \r\nL 622.015728 36.002528 \r\nL 628.676885 58.643691 \r\nL 635.338042 33.404362 \r\nL 641.999199 33.775529 \r\nL 648.660356 58.643691 \r\nL 655.321513 31.548529 \r\nL 661.98267 34.517862 \r\nL 668.643827 40.827694 \r\nL 675.304985 41.941194 \r\nL 681.966142 49.735693 \r\nL 688.627299 24.496364 \r\nL 695.288456 33.775529 \r\nL 701.949613 90.564019 \r\nL 708.61077 154.404674 \r\nL 715.271927 61.613024 \r\nL 721.933084 26.352197 \r\nL 728.594241 33.775529 \r\nL 735.255398 61.98419 \r\n\" style=\"fill:none;stroke:#000000;stroke-dasharray:5.55,2.4;stroke-dashoffset:0;stroke-width:1.5;\"/>\r\n   </g>\r\n   <g id=\"patch_3\">\r\n    <path d=\"M 42.828125 387.72 \r\nL 42.828125 7.2 \r\n\" style=\"fill:none;stroke:#000000;stroke-linecap:square;stroke-linejoin:miter;stroke-width:0.8;\"/>\r\n   </g>\r\n   <g id=\"patch_4\">\r\n    <path d=\"M 768.228125 387.72 \r\nL 768.228125 7.2 \r\n\" style=\"fill:none;stroke:#000000;stroke-linecap:square;stroke-linejoin:miter;stroke-width:0.8;\"/>\r\n   </g>\r\n   <g id=\"patch_5\">\r\n    <path d=\"M 42.828125 387.72 \r\nL 768.228125 387.72 \r\n\" style=\"fill:none;stroke:#000000;stroke-linecap:square;stroke-linejoin:miter;stroke-width:0.8;\"/>\r\n   </g>\r\n   <g id=\"patch_6\">\r\n    <path d=\"M 42.828125 7.2 \r\nL 768.228125 7.2 \r\n\" style=\"fill:none;stroke:#000000;stroke-linecap:square;stroke-linejoin:miter;stroke-width:0.8;\"/>\r\n   </g>\r\n  </g>\r\n </g>\r\n <defs>\r\n  <clipPath id=\"pfb3bad85c1\">\r\n   <rect height=\"380.52\" width=\"725.4\" x=\"42.828125\" y=\"7.2\"/>\r\n  </clipPath>\r\n </defs>\r\n</svg>\r\n",
            "image/png": "[encoded data removed]"
          },
          "metadata": {
            "needs_background": "light"
          }
        }
      ]
    },
    {
      "cell_type": "code",
      "metadata": {
        "id": "LGUpQQX34xCC"
      },
      "source": [],
      "execution_count": null,
      "outputs": []
    }
  ]
}