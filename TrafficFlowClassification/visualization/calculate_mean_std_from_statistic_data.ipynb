{
 "metadata": {
  "language_info": {
   "codemirror_mode": {
    "name": "ipython",
    "version": 3
   },
   "file_extension": ".py",
   "mimetype": "text/x-python",
   "name": "python",
   "nbconvert_exporter": "python",
   "pygments_lexer": "ipython3",
   "version": "3.7.1-final"
  },
  "orig_nbformat": 2,
  "kernelspec": {
   "name": "python3",
   "display_name": "Python 3",
   "language": "python"
  }
 },
 "nbformat": 4,
 "nbformat_minor": 2,
 "cells": [
  {
   "source": [
    "## 计算统计特征的均值和方差\n",
    "\n",
    "计算这两个值是为了数据进行标准化。"
   ],
   "cell_type": "markdown",
   "metadata": {}
  },
  {
   "cell_type": "code",
   "execution_count": 1,
   "metadata": {},
   "outputs": [],
   "source": [
    "import os\n",
    "import json\n",
    "import pandas as pd"
   ]
  },
  {
   "source": [
    "### 导入数据"
   ],
   "cell_type": "markdown",
   "metadata": {}
  },
  {
   "cell_type": "code",
   "execution_count": 5,
   "metadata": {},
   "outputs": [],
   "source": [
    "statistic_feature_json =  '../../data/npy_data/statistic_features.json' # 文件的地址"
   ]
  },
  {
   "cell_type": "code",
   "execution_count": 6,
   "metadata": {},
   "outputs": [],
   "source": [
    "with open(statistic_feature_json, \"r\") as json_read:\n",
    "    statistic_feature_dict = json.load(json_read) # 获取每个 pcap 的统计特征"
   ]
  },
  {
   "source": [
    "### 将数据转换为 pandas 格式"
   ],
   "cell_type": "markdown",
   "metadata": {}
  },
  {
   "cell_type": "code",
   "execution_count": 10,
   "metadata": {},
   "outputs": [
    {
     "output_type": "execute_result",
     "data": {
      "text/plain": [
       "                                                          0    1         2   \\\n",
       "AIMchat1.pcap.TCP_131-202-240-87_13393_178-237-...  0.000000  0.0  0.000000   \n",
       "AIMchat1.pcap.TCP_131-202-240-87_13397_178-237-...  0.000000  0.0  0.000000   \n",
       "AIMchat1.pcap.TCP_131-202-240-87_13404_178-237-...  0.000000  0.0  0.000000   \n",
       "AIMchat1.pcap.TCP_131-202-240-87_13407_178-237-...  0.000000  0.0  0.000000   \n",
       "AIMchat1.pcap.TCP_131-202-6-26_13000_131-202-24...  0.066667  0.0  0.066667   \n",
       "\n",
       "                                                          3    4    5    6   \\\n",
       "AIMchat1.pcap.TCP_131-202-240-87_13393_178-237-...  0.500000  0.5  0.0  0.0   \n",
       "AIMchat1.pcap.TCP_131-202-240-87_13397_178-237-...  0.500000  0.5  0.0  0.0   \n",
       "AIMchat1.pcap.TCP_131-202-240-87_13404_178-237-...  0.500000  0.5  0.0  0.0   \n",
       "AIMchat1.pcap.TCP_131-202-240-87_13407_178-237-...  0.500000  0.5  0.0  0.0   \n",
       "AIMchat1.pcap.TCP_131-202-6-26_13000_131-202-24...  0.466667  0.4  0.0  0.0   \n",
       "\n",
       "                                                     7    8    9   ...    16  \\\n",
       "AIMchat1.pcap.TCP_131-202-240-87_13393_178-237-...  1.0  0.0  0.0  ...  60.0   \n",
       "AIMchat1.pcap.TCP_131-202-240-87_13397_178-237-...  1.0  0.0  0.0  ...  60.0   \n",
       "AIMchat1.pcap.TCP_131-202-240-87_13404_178-237-...  1.0  0.0  0.0  ...  60.0   \n",
       "AIMchat1.pcap.TCP_131-202-240-87_13407_178-237-...  1.0  0.0  0.0  ...  60.0   \n",
       "AIMchat1.pcap.TCP_131-202-6-26_13000_131-202-24...  1.0  0.0  0.0  ...  54.0   \n",
       "\n",
       "                                                        17          18   19  \\\n",
       "AIMchat1.pcap.TCP_131-202-240-87_13393_178-237-...    60.0    0.000000  1.0   \n",
       "AIMchat1.pcap.TCP_131-202-240-87_13397_178-237-...    60.0    0.000000  1.0   \n",
       "AIMchat1.pcap.TCP_131-202-240-87_13404_178-237-...    60.0    0.000000  1.0   \n",
       "AIMchat1.pcap.TCP_131-202-240-87_13407_178-237-...    60.0    0.000000  1.0   \n",
       "AIMchat1.pcap.TCP_131-202-6-26_13000_131-202-24...  1404.0  543.987982  0.4   \n",
       "\n",
       "                                                       20   21      22  \\\n",
       "AIMchat1.pcap.TCP_131-202-240-87_13393_178-237-...    6.0  6.0     6.0   \n",
       "AIMchat1.pcap.TCP_131-202-240-87_13397_178-237-...    6.0  6.0     6.0   \n",
       "AIMchat1.pcap.TCP_131-202-240-87_13404_178-237-...    6.0  6.0     6.0   \n",
       "AIMchat1.pcap.TCP_131-202-240-87_13407_178-237-...    6.0  6.0     6.0   \n",
       "AIMchat1.pcap.TCP_131-202-6-26_13000_131-202-24...  472.4  0.0  1350.0   \n",
       "\n",
       "                                                            23   24  25  \n",
       "AIMchat1.pcap.TCP_131-202-240-87_13393_178-237-...    0.000000  0.0  26  \n",
       "AIMchat1.pcap.TCP_131-202-240-87_13397_178-237-...    0.000000  0.0  26  \n",
       "AIMchat1.pcap.TCP_131-202-240-87_13404_178-237-...    0.000000  0.0  26  \n",
       "AIMchat1.pcap.TCP_131-202-240-87_13407_178-237-...    0.000000  0.0  26  \n",
       "AIMchat1.pcap.TCP_131-202-6-26_13000_131-202-24...  544.697676  0.0  30  \n",
       "\n",
       "[5 rows x 26 columns]"
      ],
      "text/html": "<div>\n<style scoped>\n    .dataframe tbody tr th:only-of-type {\n        vertical-align: middle;\n    }\n\n    .dataframe tbody tr th {\n        vertical-align: top;\n    }\n\n    .dataframe thead th {\n        text-align: right;\n    }\n</style>\n<table border=\"1\" class=\"dataframe\">\n  <thead>\n    <tr style=\"text-align: right;\">\n      <th></th>\n      <th>0</th>\n      <th>1</th>\n      <th>2</th>\n      <th>3</th>\n      <th>4</th>\n      <th>5</th>\n      <th>6</th>\n      <th>7</th>\n      <th>8</th>\n      <th>9</th>\n      <th>...</th>\n      <th>16</th>\n      <th>17</th>\n      <th>18</th>\n      <th>19</th>\n      <th>20</th>\n      <th>21</th>\n      <th>22</th>\n      <th>23</th>\n      <th>24</th>\n      <th>25</th>\n    </tr>\n  </thead>\n  <tbody>\n    <tr>\n      <th>AIMchat1.pcap.TCP_131-202-240-87_13393_178-237-24-202_443.pcap</th>\n      <td>0.000000</td>\n      <td>0.0</td>\n      <td>0.000000</td>\n      <td>0.500000</td>\n      <td>0.5</td>\n      <td>0.0</td>\n      <td>0.0</td>\n      <td>1.0</td>\n      <td>0.0</td>\n      <td>0.0</td>\n      <td>...</td>\n      <td>60.0</td>\n      <td>60.0</td>\n      <td>0.000000</td>\n      <td>1.0</td>\n      <td>6.0</td>\n      <td>6.0</td>\n      <td>6.0</td>\n      <td>0.000000</td>\n      <td>0.0</td>\n      <td>26</td>\n    </tr>\n    <tr>\n      <th>AIMchat1.pcap.TCP_131-202-240-87_13397_178-237-19-227_443.pcap</th>\n      <td>0.000000</td>\n      <td>0.0</td>\n      <td>0.000000</td>\n      <td>0.500000</td>\n      <td>0.5</td>\n      <td>0.0</td>\n      <td>0.0</td>\n      <td>1.0</td>\n      <td>0.0</td>\n      <td>0.0</td>\n      <td>...</td>\n      <td>60.0</td>\n      <td>60.0</td>\n      <td>0.000000</td>\n      <td>1.0</td>\n      <td>6.0</td>\n      <td>6.0</td>\n      <td>6.0</td>\n      <td>0.000000</td>\n      <td>0.0</td>\n      <td>26</td>\n    </tr>\n    <tr>\n      <th>AIMchat1.pcap.TCP_131-202-240-87_13404_178-237-19-103_443.pcap</th>\n      <td>0.000000</td>\n      <td>0.0</td>\n      <td>0.000000</td>\n      <td>0.500000</td>\n      <td>0.5</td>\n      <td>0.0</td>\n      <td>0.0</td>\n      <td>1.0</td>\n      <td>0.0</td>\n      <td>0.0</td>\n      <td>...</td>\n      <td>60.0</td>\n      <td>60.0</td>\n      <td>0.000000</td>\n      <td>1.0</td>\n      <td>6.0</td>\n      <td>6.0</td>\n      <td>6.0</td>\n      <td>0.000000</td>\n      <td>0.0</td>\n      <td>26</td>\n    </tr>\n    <tr>\n      <th>AIMchat1.pcap.TCP_131-202-240-87_13407_178-237-19-228_443.pcap</th>\n      <td>0.000000</td>\n      <td>0.0</td>\n      <td>0.000000</td>\n      <td>0.500000</td>\n      <td>0.5</td>\n      <td>0.0</td>\n      <td>0.0</td>\n      <td>1.0</td>\n      <td>0.0</td>\n      <td>0.0</td>\n      <td>...</td>\n      <td>60.0</td>\n      <td>60.0</td>\n      <td>0.000000</td>\n      <td>1.0</td>\n      <td>6.0</td>\n      <td>6.0</td>\n      <td>6.0</td>\n      <td>0.000000</td>\n      <td>0.0</td>\n      <td>26</td>\n    </tr>\n    <tr>\n      <th>AIMchat1.pcap.TCP_131-202-6-26_13000_131-202-240-87_13411.pcap</th>\n      <td>0.066667</td>\n      <td>0.0</td>\n      <td>0.066667</td>\n      <td>0.466667</td>\n      <td>0.4</td>\n      <td>0.0</td>\n      <td>0.0</td>\n      <td>1.0</td>\n      <td>0.0</td>\n      <td>0.0</td>\n      <td>...</td>\n      <td>54.0</td>\n      <td>1404.0</td>\n      <td>543.987982</td>\n      <td>0.4</td>\n      <td>472.4</td>\n      <td>0.0</td>\n      <td>1350.0</td>\n      <td>544.697676</td>\n      <td>0.0</td>\n      <td>30</td>\n    </tr>\n  </tbody>\n</table>\n<p>5 rows × 26 columns</p>\n</div>"
     },
     "metadata": {},
     "execution_count": 10
    }
   ],
   "source": [
    "statistic_dataframe = pd.DataFrame.from_dict(statistic_feature_dict, orient='index')\n",
    "statistic_dataframe.head()"
   ]
  },
  {
   "cell_type": "code",
   "execution_count": 20,
   "metadata": {},
   "outputs": [
    {
     "output_type": "execute_result",
     "data": {
      "text/plain": [
       "array([0.0000e+00, 0.0000e+00, 0.0000e+00, 1.0000e-02, 1.0000e-02,\n",
       "       0.0000e+00, 7.0000e-02, 2.0000e-02, 9.8000e-01, 0.0000e+00,\n",
       "       2.8981e+02, 6.4260e+01, 6.8900e+00, 2.5696e+02, 1.3680e+02,\n",
       "       9.3260e+01, 7.8320e+01, 1.3205e+02, 2.0960e+01, 2.0000e-02,\n",
       "       6.2900e+00, 0.0000e+00, 3.6020e+01, 9.1500e+00, 0.0000e+00,\n",
       "       7.3270e+01])"
      ]
     },
     "metadata": {},
     "execution_count": 20
    }
   ],
   "source": [
    "# 计算 26 个特征的均值\n",
    "statistic_dataframe.mean().values"
   ]
  },
  {
   "cell_type": "code",
   "execution_count": 15,
   "metadata": {},
   "outputs": [
    {
     "output_type": "execute_result",
     "data": {
      "text/plain": [
       "array([3.44500263e-02, 0.00000000e+00, 3.09222563e-02, 8.43027570e-02,\n",
       "       4.87519125e-02, 1.48120354e-02, 2.49138903e-01, 1.53477827e-01,\n",
       "       1.53477827e-01, 0.00000000e+00, 8.48196659e+02, 1.94163550e+02,\n",
       "       1.30259798e+02, 7.62370125e+02, 4.16966374e+02, 1.25455838e+02,\n",
       "       2.30658312e+01, 8.78612984e+02, 1.84367543e+02, 1.13978421e-01,\n",
       "       1.19289813e+02, 1.45965914e-01, 8.76535415e+02, 1.78680040e+02,\n",
       "       4.91812227e-04, 4.40298923e+03])"
      ]
     },
     "metadata": {},
     "execution_count": 15
    }
   ],
   "source": [
    "# 计算 26 个特征的方差\n",
    "statistic_dataframe.std().values"
   ]
  },
  {
   "cell_type": "code",
   "execution_count": null,
   "metadata": {},
   "outputs": [],
   "source": []
  }
 ]
}