{
 "cells": [
  {
   "cell_type": "code",
   "execution_count": 1,
   "metadata": {},
   "outputs": [],
   "source": [
    "import os\n",
    "import numpy as np\n",
    "import tensorflow as tf\n",
    "import datetime\n",
    "from tensorflow.keras import models\n",
    "from tensorflow.keras import layers\n",
    "from tensorflow.keras import backend as K\n",
    "from tensorflow.keras import callbacks\n",
    "\n",
    "from sklearn.metrics import classification_report\n",
    "\n",
    "tf.random.set_seed(0)\n",
    "\n",
    "os.environ[\"CUDA_VISIBLE_DEVICES\"]=\"0\"\n",
    "gpu = tf.config.experimental.list_physical_devices(device_type='GPU')\n",
    "tf.config.experimental.set_memory_growth(gpu[0], True)"
   ]
  },
  {
   "cell_type": "code",
   "execution_count": 2,
   "metadata": {},
   "outputs": [
    {
     "data": {
      "text/plain": [
       "((49986, 784), (5618, 784))"
      ]
     },
     "execution_count": 2,
     "metadata": {},
     "output_type": "execute_result"
    }
   ],
   "source": [
    "X_train = np.load(\"../preprocess_data/train-pcap.npy\")\n",
    "y_train = np.load(\"../preprocess_data/train-labels.npy\")\n",
    "X_test = np.load(\"../preprocess_data/test-pcap.npy\")\n",
    "y_test = np.load(\"../preprocess_data/test-labels.npy\")\n",
    "X_train.shape, X_test.shape"
   ]
  },
  {
   "cell_type": "code",
   "execution_count": 3,
   "metadata": {},
   "outputs": [],
   "source": [
    "X_train = X_train.astype(\"float32\").reshape(-1, 28, 28, 1)\n",
    "X_test = X_test.astype(\"float32\").reshape(-1, 28, 28, 1)"
   ]
  },
  {
   "cell_type": "code",
   "execution_count": 4,
   "metadata": {},
   "outputs": [],
   "source": [
    "def get_model():\n",
    "    model = models.Sequential()\n",
    "    model.add(layers.Conv2D(32, (5, 5), activation=\"relu\", input_shape=(28, 28, 1)))\n",
    "    model.add(layers.MaxPooling2D(pool_size=(2, 2)))\n",
    "    model.add(layers.Conv2D(64, (5, 5), activation=\"relu\"))\n",
    "    model.add(layers.MaxPooling2D(pool_size=(2, 2)))\n",
    "    model.add(layers.Flatten())\n",
    "    model.add(layers.Dense(1024))\n",
    "    model.add(layers.Dropout(0.5))\n",
    "    model.add(layers.Dense(12))\n",
    "    return model"
   ]
  },
  {
   "cell_type": "code",
   "execution_count": 5,
   "metadata": {},
   "outputs": [],
   "source": [
    "loss_func = tf.keras.losses.SparseCategoricalCrossentropy(from_logits=True)\n",
    "optimizer = tf.keras.optimizers.Adam()"
   ]
  },
  {
   "cell_type": "code",
   "execution_count": 6,
   "metadata": {},
   "outputs": [
    {
     "name": "stdout",
     "output_type": "stream",
     "text": [
      "Epoch 1/200\n",
      "313/313 [==============================] - 2s 7ms/step - loss: 1.8604 - accuracy: 0.6493 - val_loss: 0.7791 - val_accuracy: 0.6827\n",
      "Epoch 2/200\n",
      "313/313 [==============================] - 2s 7ms/step - loss: 0.7984 - accuracy: 0.6651 - val_loss: 0.7536 - val_accuracy: 0.6786\n",
      "Epoch 3/200\n",
      "313/313 [==============================] - 2s 7ms/step - loss: 0.7541 - accuracy: 0.6788 - val_loss: 0.7128 - val_accuracy: 0.7135\n",
      "Epoch 4/200\n",
      "313/313 [==============================] - 2s 7ms/step - loss: 0.7268 - accuracy: 0.6911 - val_loss: 0.6789 - val_accuracy: 0.7259\n",
      "Epoch 5/200\n",
      "313/313 [==============================] - 2s 7ms/step - loss: 0.7032 - accuracy: 0.7120 - val_loss: 0.6876 - val_accuracy: 0.7181\n",
      "Epoch 6/200\n",
      "313/313 [==============================] - 2s 7ms/step - loss: 0.6709 - accuracy: 0.7285 - val_loss: 0.6467 - val_accuracy: 0.7381\n",
      "Epoch 7/200\n",
      "313/313 [==============================] - 2s 7ms/step - loss: 0.6409 - accuracy: 0.7433 - val_loss: 0.6252 - val_accuracy: 0.7429\n",
      "Epoch 8/200\n",
      "313/313 [==============================] - 2s 7ms/step - loss: 0.6036 - accuracy: 0.7572 - val_loss: 0.6044 - val_accuracy: 0.7539\n",
      "Epoch 9/200\n",
      "313/313 [==============================] - 2s 7ms/step - loss: 0.5726 - accuracy: 0.7656 - val_loss: 0.5529 - val_accuracy: 0.7730\n",
      "Epoch 10/200\n",
      "313/313 [==============================] - 2s 7ms/step - loss: 0.5344 - accuracy: 0.7763 - val_loss: 0.5089 - val_accuracy: 0.7861\n",
      "Epoch 11/200\n",
      "313/313 [==============================] - 2s 7ms/step - loss: 0.5111 - accuracy: 0.7798 - val_loss: 0.5634 - val_accuracy: 0.7687\n",
      "Epoch 12/200\n",
      "313/313 [==============================] - 2s 6ms/step - loss: 0.4884 - accuracy: 0.7932 - val_loss: 0.4831 - val_accuracy: 0.8038\n",
      "Epoch 13/200\n",
      "313/313 [==============================] - 2s 7ms/step - loss: 0.4685 - accuracy: 0.7993 - val_loss: 0.5021 - val_accuracy: 0.7727\n",
      "Epoch 14/200\n",
      "313/313 [==============================] - 2s 7ms/step - loss: 0.4455 - accuracy: 0.8046 - val_loss: 0.5126 - val_accuracy: 0.7834\n",
      "Epoch 15/200\n",
      "313/313 [==============================] - 2s 7ms/step - loss: 0.4287 - accuracy: 0.8092 - val_loss: 0.4687 - val_accuracy: 0.8084\n",
      "Epoch 16/200\n",
      "313/313 [==============================] - 2s 7ms/step - loss: 0.4223 - accuracy: 0.8120 - val_loss: 0.4567 - val_accuracy: 0.8091\n",
      "Epoch 17/200\n",
      "313/313 [==============================] - 2s 7ms/step - loss: 0.4020 - accuracy: 0.8236 - val_loss: 0.4625 - val_accuracy: 0.8141\n",
      "Epoch 18/200\n",
      "313/313 [==============================] - 2s 7ms/step - loss: 0.3943 - accuracy: 0.8226 - val_loss: 0.4466 - val_accuracy: 0.8018\n",
      "Epoch 19/200\n",
      "313/313 [==============================] - 2s 7ms/step - loss: 0.3805 - accuracy: 0.8287 - val_loss: 0.4466 - val_accuracy: 0.8125\n",
      "Epoch 20/200\n",
      "313/313 [==============================] - 2s 7ms/step - loss: 0.3659 - accuracy: 0.8373 - val_loss: 0.4354 - val_accuracy: 0.8197\n",
      "Epoch 21/200\n",
      "313/313 [==============================] - 2s 7ms/step - loss: 0.3487 - accuracy: 0.8410 - val_loss: 0.4337 - val_accuracy: 0.8104\n",
      "Epoch 22/200\n",
      "313/313 [==============================] - 2s 7ms/step - loss: 0.3550 - accuracy: 0.8374 - val_loss: 0.4565 - val_accuracy: 0.8237\n",
      "Epoch 23/200\n",
      "313/313 [==============================] - 2s 7ms/step - loss: 0.3436 - accuracy: 0.8412 - val_loss: 0.4697 - val_accuracy: 0.8303\n",
      "Epoch 24/200\n",
      "313/313 [==============================] - 2s 6ms/step - loss: 0.3419 - accuracy: 0.8418 - val_loss: 0.4695 - val_accuracy: 0.8111\n",
      "Epoch 25/200\n",
      "313/313 [==============================] - 2s 7ms/step - loss: 0.3361 - accuracy: 0.8450 - val_loss: 0.4715 - val_accuracy: 0.8228\n",
      "Epoch 26/200\n",
      "313/313 [==============================] - 2s 7ms/step - loss: 0.3261 - accuracy: 0.8505 - val_loss: 0.4768 - val_accuracy: 0.8290\n",
      "Epoch 27/200\n",
      "313/313 [==============================] - 2s 7ms/step - loss: 0.3164 - accuracy: 0.8538 - val_loss: 0.4927 - val_accuracy: 0.8325\n",
      "Epoch 28/200\n",
      "313/313 [==============================] - 2s 7ms/step - loss: 0.3247 - accuracy: 0.8518 - val_loss: 0.5138 - val_accuracy: 0.8289\n",
      "Epoch 29/200\n",
      "313/313 [==============================] - 2s 7ms/step - loss: 0.3343 - accuracy: 0.8468 - val_loss: 0.5570 - val_accuracy: 0.8254\n",
      "Epoch 30/200\n",
      "313/313 [==============================] - 2s 7ms/step - loss: 0.3190 - accuracy: 0.8514 - val_loss: 0.4932 - val_accuracy: 0.8340\n",
      "Epoch 31/200\n",
      "313/313 [==============================] - 2s 7ms/step - loss: 0.3078 - accuracy: 0.8589 - val_loss: 0.5012 - val_accuracy: 0.8324\n",
      "Epoch 32/200\n",
      "313/313 [==============================] - 2s 7ms/step - loss: 0.3093 - accuracy: 0.8580 - val_loss: 0.5324 - val_accuracy: 0.8361\n",
      "Epoch 33/200\n",
      "313/313 [==============================] - 2s 7ms/step - loss: 0.3079 - accuracy: 0.8609 - val_loss: 0.5225 - val_accuracy: 0.8240\n",
      "Epoch 34/200\n",
      "313/313 [==============================] - 2s 7ms/step - loss: 0.3094 - accuracy: 0.8583 - val_loss: 0.6016 - val_accuracy: 0.8102\n",
      "Epoch 35/200\n",
      "313/313 [==============================] - 2s 7ms/step - loss: 0.3148 - accuracy: 0.8543 - val_loss: 0.5756 - val_accuracy: 0.8302\n",
      "Epoch 36/200\n",
      "313/313 [==============================] - 2s 7ms/step - loss: 0.3137 - accuracy: 0.8578 - val_loss: 0.5443 - val_accuracy: 0.8287\n",
      "Epoch 37/200\n",
      "313/313 [==============================] - 2s 7ms/step - loss: 0.3011 - accuracy: 0.8618 - val_loss: 0.6096 - val_accuracy: 0.8377\n",
      "Epoch 38/200\n",
      "313/313 [==============================] - 2s 7ms/step - loss: 0.3100 - accuracy: 0.8590 - val_loss: 0.5657 - val_accuracy: 0.8347\n",
      "Epoch 39/200\n",
      "313/313 [==============================] - 2s 7ms/step - loss: 0.3046 - accuracy: 0.8625 - val_loss: 0.5914 - val_accuracy: 0.8403\n",
      "Epoch 40/200\n",
      "313/313 [==============================] - 2s 7ms/step - loss: 0.3038 - accuracy: 0.8631 - val_loss: 0.5907 - val_accuracy: 0.8373\n",
      "Epoch 41/200\n",
      "313/313 [==============================] - 2s 7ms/step - loss: 0.2942 - accuracy: 0.8637 - val_loss: 0.5456 - val_accuracy: 0.8189\n",
      "Epoch 42/200\n",
      "313/313 [==============================] - 2s 7ms/step - loss: 0.3014 - accuracy: 0.8655 - val_loss: 0.5232 - val_accuracy: 0.8387\n",
      "Epoch 43/200\n",
      "313/313 [==============================] - 2s 7ms/step - loss: 0.2955 - accuracy: 0.8626 - val_loss: 0.6113 - val_accuracy: 0.7936\n",
      "Epoch 44/200\n",
      "313/313 [==============================] - 2s 7ms/step - loss: 0.2990 - accuracy: 0.8624 - val_loss: 0.6047 - val_accuracy: 0.8154\n",
      "Epoch 45/200\n",
      "313/313 [==============================] - 2s 7ms/step - loss: 0.2909 - accuracy: 0.8652 - val_loss: 0.5952 - val_accuracy: 0.8238\n",
      "Epoch 46/200\n",
      "313/313 [==============================] - 2s 7ms/step - loss: 0.2917 - accuracy: 0.8678 - val_loss: 0.7114 - val_accuracy: 0.8404\n",
      "Epoch 47/200\n",
      "313/313 [==============================] - 2s 7ms/step - loss: 0.3036 - accuracy: 0.8626 - val_loss: 0.6414 - val_accuracy: 0.8202\n",
      "Epoch 48/200\n",
      "313/313 [==============================] - 2s 7ms/step - loss: 0.2824 - accuracy: 0.8704 - val_loss: 0.6489 - val_accuracy: 0.8405\n",
      "Epoch 49/200\n",
      "313/313 [==============================] - 2s 7ms/step - loss: 0.2743 - accuracy: 0.8706 - val_loss: 0.5892 - val_accuracy: 0.8452\n",
      "Epoch 50/200\n",
      "313/313 [==============================] - 2s 7ms/step - loss: 0.2735 - accuracy: 0.8742 - val_loss: 0.7101 - val_accuracy: 0.8361\n",
      "Epoch 51/200\n",
      "313/313 [==============================] - 2s 7ms/step - loss: 0.3053 - accuracy: 0.8659 - val_loss: 0.6794 - val_accuracy: 0.8400\n",
      "Epoch 52/200\n",
      "313/313 [==============================] - 2s 7ms/step - loss: 0.2898 - accuracy: 0.8699 - val_loss: 0.7399 - val_accuracy: 0.8349\n",
      "Epoch 53/200\n",
      "313/313 [==============================] - 2s 7ms/step - loss: 0.3011 - accuracy: 0.8675 - val_loss: 0.7124 - val_accuracy: 0.8187\n",
      "Epoch 54/200\n",
      "313/313 [==============================] - 2s 7ms/step - loss: 0.2960 - accuracy: 0.8674 - val_loss: 0.6973 - val_accuracy: 0.8313\n",
      "Epoch 55/200\n",
      "313/313 [==============================] - 2s 7ms/step - loss: 0.2966 - accuracy: 0.8700 - val_loss: 0.7066 - val_accuracy: 0.8473\n",
      "Epoch 56/200\n",
      "313/313 [==============================] - 2s 7ms/step - loss: 0.2976 - accuracy: 0.8673 - val_loss: 0.7830 - val_accuracy: 0.8303\n",
      "Epoch 57/200\n",
      "313/313 [==============================] - 2s 7ms/step - loss: 0.3001 - accuracy: 0.8692 - val_loss: 0.7006 - val_accuracy: 0.8254\n"
     ]
    },
    {
     "name": "stdout",
     "output_type": "stream",
     "text": [
      "Epoch 58/200\n",
      "313/313 [==============================] - 2s 7ms/step - loss: 0.2845 - accuracy: 0.8699 - val_loss: 0.6950 - val_accuracy: 0.8298\n",
      "Epoch 59/200\n",
      "313/313 [==============================] - 2s 7ms/step - loss: 0.2881 - accuracy: 0.8673 - val_loss: 0.8635 - val_accuracy: 0.8178\n",
      "Epoch 60/200\n",
      "313/313 [==============================] - 2s 7ms/step - loss: 0.2797 - accuracy: 0.8702 - val_loss: 0.7086 - val_accuracy: 0.8221\n",
      "Epoch 61/200\n",
      "313/313 [==============================] - 2s 7ms/step - loss: 0.2934 - accuracy: 0.8657 - val_loss: 0.9061 - val_accuracy: 0.8410\n",
      "Epoch 62/200\n",
      "313/313 [==============================] - 2s 7ms/step - loss: 0.3113 - accuracy: 0.8624 - val_loss: 0.6958 - val_accuracy: 0.8404\n",
      "Epoch 63/200\n",
      "313/313 [==============================] - 2s 7ms/step - loss: 0.2942 - accuracy: 0.8689 - val_loss: 0.8961 - val_accuracy: 0.8206\n",
      "Epoch 64/200\n",
      "313/313 [==============================] - 2s 7ms/step - loss: 0.2959 - accuracy: 0.8713 - val_loss: 0.8012 - val_accuracy: 0.8450\n",
      "Epoch 65/200\n",
      "313/313 [==============================] - 2s 7ms/step - loss: 0.2811 - accuracy: 0.8746 - val_loss: 0.7036 - val_accuracy: 0.8320\n",
      "Epoch 66/200\n",
      "313/313 [==============================] - 2s 7ms/step - loss: 0.2681 - accuracy: 0.8766 - val_loss: 0.8291 - val_accuracy: 0.8384\n",
      "Epoch 67/200\n",
      "313/313 [==============================] - 2s 7ms/step - loss: 0.2755 - accuracy: 0.8759 - val_loss: 0.7423 - val_accuracy: 0.8398\n",
      "Epoch 68/200\n",
      "313/313 [==============================] - 2s 7ms/step - loss: 0.3100 - accuracy: 0.8691 - val_loss: 0.9731 - val_accuracy: 0.8356\n",
      "Epoch 69/200\n",
      "313/313 [==============================] - 2s 7ms/step - loss: 0.3222 - accuracy: 0.8611 - val_loss: 0.7843 - val_accuracy: 0.8266\n",
      "Epoch 70/200\n",
      "313/313 [==============================] - 2s 7ms/step - loss: 0.3006 - accuracy: 0.8706 - val_loss: 0.6883 - val_accuracy: 0.8283\n",
      "Epoch 71/200\n",
      "313/313 [==============================] - 2s 7ms/step - loss: 0.3070 - accuracy: 0.8710 - val_loss: 0.8739 - val_accuracy: 0.8398\n",
      "Epoch 72/200\n",
      "313/313 [==============================] - 2s 7ms/step - loss: 0.2873 - accuracy: 0.8729 - val_loss: 0.8913 - val_accuracy: 0.8418\n",
      "Epoch 73/200\n",
      "313/313 [==============================] - 2s 7ms/step - loss: 0.2920 - accuracy: 0.8737 - val_loss: 0.8642 - val_accuracy: 0.8451\n",
      "Epoch 74/200\n",
      "313/313 [==============================] - 2s 7ms/step - loss: 0.2819 - accuracy: 0.8747 - val_loss: 0.8694 - val_accuracy: 0.8431\n",
      "Epoch 75/200\n",
      "313/313 [==============================] - 2s 7ms/step - loss: 0.2942 - accuracy: 0.8731 - val_loss: 0.7959 - val_accuracy: 0.8356\n",
      "model_train_time： 0:02:37.348839\n"
     ]
    }
   ],
   "source": [
    "model = get_model()\n",
    "model.compile(loss=loss_func, optimizer=optimizer, metrics=[\"accuracy\"])\n",
    "start_time = datetime.datetime.now()\n",
    "early_stopping =callbacks.EarlyStopping(monitor='val_accuracy', patience=20) \n",
    "model.fit(X_train, y_train, epochs=200, batch_size=128, verbose=1, validation_split=0.2, callbacks=[early_stopping])\n",
    "print ('model_train_time：', datetime.datetime.now() - start_time)"
   ]
  },
  {
   "cell_type": "code",
   "execution_count": 7,
   "metadata": {},
   "outputs": [
    {
     "name": "stdout",
     "output_type": "stream",
     "text": [
      "predict_time： 0:00:00.331225\n",
      "              precision    recall  f1-score   support\n",
      "\n",
      "           0     0.7000    0.4088    0.5161       137\n",
      "           1     0.7317    0.4688    0.5714        64\n",
      "           2     0.6780    0.8228    0.7434      1236\n",
      "           3     0.7778    0.7179    0.7467        39\n",
      "           4     0.7606    0.6067    0.6750       178\n",
      "           5     0.8994    0.8672    0.8830      3720\n",
      "           6     0.5000    0.2414    0.3256        29\n",
      "           7     0.7500    0.6000    0.6667        15\n",
      "           8     0.7714    0.5870    0.6667        46\n",
      "           9     0.8636    0.7308    0.7917        26\n",
      "          10     0.8200    0.7193    0.7664        57\n",
      "          11     0.5657    0.7887    0.6588        71\n",
      "\n",
      "    accuracy                         0.8231      5618\n",
      "   macro avg     0.7348    0.6299    0.6676      5618\n",
      "weighted avg     0.8299    0.8231    0.8226      5618\n",
      "\n"
     ]
    }
   ],
   "source": [
    "start_time = datetime.datetime.now()\n",
    "y_pre = np.argmax(model.predict(X_test), axis=1)\n",
    "print ('predict_time：', datetime.datetime.now() - start_time)\n",
    "print(classification_report(y_test, y_pre, digits=4))"
   ]
  },
  {
   "cell_type": "code",
   "execution_count": null,
   "metadata": {},
   "outputs": [],
   "source": []
  }
 ],
 "metadata": {
  "kernelspec": {
   "display_name": "tensorflow",
   "language": "python",
   "name": "tensorflow"
  },
  "language_info": {
   "codemirror_mode": {
    "name": "ipython",
    "version": 3
   },
   "file_extension": ".py",
   "mimetype": "text/x-python",
   "name": "python",
   "nbconvert_exporter": "python",
   "pygments_lexer": "ipython3",
   "version": "3.7.9"
  }
 },
 "nbformat": 4,
 "nbformat_minor": 4
}
